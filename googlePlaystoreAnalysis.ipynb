{
 "cells": [
  {
   "cell_type": "markdown",
   "metadata": {},
   "source": [
    "<u><b><font size = 6.5 color= 'maroon'>Google PlayStore Analysis </font> </b></u> "
   ]
  },
  {
   "cell_type": "markdown",
   "metadata": {},
   "source": [
    "\n",
    "Mayur Brahmbhatt <br>"
   ]
  },
  {
   "cell_type": "markdown",
   "metadata": {},
   "source": [
    "<b><font size = 5>Packages</font><b>"
   ]
  },
  {
   "cell_type": "code",
   "execution_count": 1,
   "metadata": {},
   "outputs": [],
   "source": [
    "import pandas as pd\n",
    "import numpy as np\n",
    "import matplotlib as plt\n",
    "import matplotlib.pyplot as plt\n",
    "import seaborn as sns\n",
    "import warnings\n"
   ]
  },
  {
   "cell_type": "markdown",
   "metadata": {},
   "source": [
    "<b><font size = 6>Dataset Load</font></b>"
   ]
  },
  {
   "cell_type": "markdown",
   "metadata": {},
   "source": [
    "<b><font size = 3>SOURCE : https://www.kaggle.com/gauthamp10/google-playstore-apps </font><b>"
   ]
  },
  {
   "cell_type": "code",
   "execution_count": 2,
   "metadata": {},
   "outputs": [],
   "source": [
    "data1= pd.read_csv(\"C:\\\\Users\\\\Mayur Brahmbhatt\\\\Desktop\\\\St Clair\\\\Analytical tool\\\\Project1\\\\DAB_103_Project_1\\\\Google-Playstore.csv\")"
   ]
  },
  {
   "cell_type": "code",
   "execution_count": 3,
   "metadata": {},
   "outputs": [
    {
     "data": {
      "text/html": [
       "<div>\n",
       "<style scoped>\n",
       "    .dataframe tbody tr th:only-of-type {\n",
       "        vertical-align: middle;\n",
       "    }\n",
       "\n",
       "    .dataframe tbody tr th {\n",
       "        vertical-align: top;\n",
       "    }\n",
       "\n",
       "    .dataframe thead th {\n",
       "        text-align: right;\n",
       "    }\n",
       "</style>\n",
       "<table border=\"1\" class=\"dataframe\">\n",
       "  <thead>\n",
       "    <tr style=\"text-align: right;\">\n",
       "      <th></th>\n",
       "      <th>App Name</th>\n",
       "      <th>App Id</th>\n",
       "      <th>Category</th>\n",
       "      <th>Rating</th>\n",
       "      <th>Rating Count</th>\n",
       "      <th>Installs</th>\n",
       "      <th>Minimum Installs</th>\n",
       "      <th>Maximum Installs</th>\n",
       "      <th>Free</th>\n",
       "      <th>Price</th>\n",
       "      <th>...</th>\n",
       "      <th>Developer Id</th>\n",
       "      <th>Developer Website</th>\n",
       "      <th>Developer Email</th>\n",
       "      <th>Released</th>\n",
       "      <th>Last Updated</th>\n",
       "      <th>Content Rating</th>\n",
       "      <th>Privacy Policy</th>\n",
       "      <th>Ad Supported</th>\n",
       "      <th>In App Purchases</th>\n",
       "      <th>Editors Choice</th>\n",
       "    </tr>\n",
       "  </thead>\n",
       "  <tbody>\n",
       "    <tr>\n",
       "      <th>0</th>\n",
       "      <td>HTTrack Website Copier</td>\n",
       "      <td>com.httrack.android</td>\n",
       "      <td>Communication</td>\n",
       "      <td>3.6</td>\n",
       "      <td>2848.0</td>\n",
       "      <td>100,000+</td>\n",
       "      <td>100000.0</td>\n",
       "      <td>351560</td>\n",
       "      <td>True</td>\n",
       "      <td>0.0</td>\n",
       "      <td>...</td>\n",
       "      <td>Xavier Roche</td>\n",
       "      <td>http://www.httrack.com/</td>\n",
       "      <td>roche+android@httrack.com</td>\n",
       "      <td>Aug 12, 2013</td>\n",
       "      <td>May 20, 2017</td>\n",
       "      <td>Everyone</td>\n",
       "      <td>http://android.httrack.com/privacy-policy.html</td>\n",
       "      <td>False</td>\n",
       "      <td>False</td>\n",
       "      <td>False</td>\n",
       "    </tr>\n",
       "    <tr>\n",
       "      <th>1</th>\n",
       "      <td>World War 2: Offline Strategy</td>\n",
       "      <td>com.skizze.wwii</td>\n",
       "      <td>Strategy</td>\n",
       "      <td>4.3</td>\n",
       "      <td>17297.0</td>\n",
       "      <td>1,000,000+</td>\n",
       "      <td>1000000.0</td>\n",
       "      <td>2161778</td>\n",
       "      <td>True</td>\n",
       "      <td>0.0</td>\n",
       "      <td>...</td>\n",
       "      <td>Skizze Games</td>\n",
       "      <td>http://stereo7.com/</td>\n",
       "      <td>Skizze.Games@gmail.com</td>\n",
       "      <td>Jul 19, 2018</td>\n",
       "      <td>Nov 26, 2020</td>\n",
       "      <td>Everyone 10+</td>\n",
       "      <td>https://www.iubenda.com/privacy-policy/8032781</td>\n",
       "      <td>True</td>\n",
       "      <td>True</td>\n",
       "      <td>False</td>\n",
       "    </tr>\n",
       "    <tr>\n",
       "      <th>2</th>\n",
       "      <td>WPSApp</td>\n",
       "      <td>com.themausoft.wpsapp</td>\n",
       "      <td>Tools</td>\n",
       "      <td>4.2</td>\n",
       "      <td>488639.0</td>\n",
       "      <td>50,000,000+</td>\n",
       "      <td>50000000.0</td>\n",
       "      <td>79304739</td>\n",
       "      <td>True</td>\n",
       "      <td>0.0</td>\n",
       "      <td>...</td>\n",
       "      <td>TheMauSoft</td>\n",
       "      <td>http://www.themausoft.com</td>\n",
       "      <td>wpsapp.app@gmail.com</td>\n",
       "      <td>Mar 7, 2016</td>\n",
       "      <td>Oct 21, 2020</td>\n",
       "      <td>Everyone</td>\n",
       "      <td>https://sites.google.com/view/wpsapppolicy/main</td>\n",
       "      <td>True</td>\n",
       "      <td>False</td>\n",
       "      <td>False</td>\n",
       "    </tr>\n",
       "    <tr>\n",
       "      <th>3</th>\n",
       "      <td>OfficeSuite - Office, PDF, Word, Excel, PowerP...</td>\n",
       "      <td>com.mobisystems.office</td>\n",
       "      <td>Business</td>\n",
       "      <td>4.2</td>\n",
       "      <td>1224420.0</td>\n",
       "      <td>100,000,000+</td>\n",
       "      <td>100000000.0</td>\n",
       "      <td>163660067</td>\n",
       "      <td>True</td>\n",
       "      <td>0.0</td>\n",
       "      <td>...</td>\n",
       "      <td>MobiSystems</td>\n",
       "      <td>http://www.mobisystems.com</td>\n",
       "      <td>support-officesuite-android@mobisystems.com</td>\n",
       "      <td>Dec 22, 2011</td>\n",
       "      <td>Nov 23, 2020</td>\n",
       "      <td>Everyone</td>\n",
       "      <td>http://www.mobisystems.com/mobile/privacy-poli...</td>\n",
       "      <td>True</td>\n",
       "      <td>True</td>\n",
       "      <td>False</td>\n",
       "    </tr>\n",
       "    <tr>\n",
       "      <th>4</th>\n",
       "      <td>Loud Player Free</td>\n",
       "      <td>com.arthelion.loudplayer</td>\n",
       "      <td>Music &amp; Audio</td>\n",
       "      <td>4.2</td>\n",
       "      <td>665.0</td>\n",
       "      <td>50,000+</td>\n",
       "      <td>50000.0</td>\n",
       "      <td>73463</td>\n",
       "      <td>True</td>\n",
       "      <td>0.0</td>\n",
       "      <td>...</td>\n",
       "      <td>Arthelion92</td>\n",
       "      <td>http://www.arthelion.com</td>\n",
       "      <td>arthelion92@gmail.com</td>\n",
       "      <td>Sep 24, 2016</td>\n",
       "      <td>Nov 22, 2020</td>\n",
       "      <td>Everyone</td>\n",
       "      <td>http://www.arthelion.com/index.php/fr/android-...</td>\n",
       "      <td>False</td>\n",
       "      <td>False</td>\n",
       "      <td>False</td>\n",
       "    </tr>\n",
       "    <tr>\n",
       "      <th>...</th>\n",
       "      <td>...</td>\n",
       "      <td>...</td>\n",
       "      <td>...</td>\n",
       "      <td>...</td>\n",
       "      <td>...</td>\n",
       "      <td>...</td>\n",
       "      <td>...</td>\n",
       "      <td>...</td>\n",
       "      <td>...</td>\n",
       "      <td>...</td>\n",
       "      <td>...</td>\n",
       "      <td>...</td>\n",
       "      <td>...</td>\n",
       "      <td>...</td>\n",
       "      <td>...</td>\n",
       "      <td>...</td>\n",
       "      <td>...</td>\n",
       "      <td>...</td>\n",
       "      <td>...</td>\n",
       "      <td>...</td>\n",
       "      <td>...</td>\n",
       "    </tr>\n",
       "    <tr>\n",
       "      <th>1118131</th>\n",
       "      <td>FleetEnable</td>\n",
       "      <td>com.fleetenable.app</td>\n",
       "      <td>Productivity</td>\n",
       "      <td>NaN</td>\n",
       "      <td>NaN</td>\n",
       "      <td>10+</td>\n",
       "      <td>10.0</td>\n",
       "      <td>10</td>\n",
       "      <td>True</td>\n",
       "      <td>0.0</td>\n",
       "      <td>...</td>\n",
       "      <td>Imaginnovate</td>\n",
       "      <td>http://fleetenable.com/</td>\n",
       "      <td>krishna@imaginnovate.com</td>\n",
       "      <td>NaN</td>\n",
       "      <td>Jun 30, 2020</td>\n",
       "      <td>Everyone</td>\n",
       "      <td>http://fleetenable.com/</td>\n",
       "      <td>False</td>\n",
       "      <td>False</td>\n",
       "      <td>False</td>\n",
       "    </tr>\n",
       "    <tr>\n",
       "      <th>1118132</th>\n",
       "      <td>AutoThink</td>\n",
       "      <td>com.fleetenable.autothink</td>\n",
       "      <td>Productivity</td>\n",
       "      <td>0.0</td>\n",
       "      <td>0.0</td>\n",
       "      <td>100+</td>\n",
       "      <td>100.0</td>\n",
       "      <td>127</td>\n",
       "      <td>True</td>\n",
       "      <td>0.0</td>\n",
       "      <td>...</td>\n",
       "      <td>Imaginnovate</td>\n",
       "      <td>http://www.imaginnovate.com</td>\n",
       "      <td>krishna@imaginnovate.com</td>\n",
       "      <td>Nov 26, 2019</td>\n",
       "      <td>Nov 13, 2020</td>\n",
       "      <td>Everyone</td>\n",
       "      <td>http://www.imaginnovate.com</td>\n",
       "      <td>False</td>\n",
       "      <td>False</td>\n",
       "      <td>False</td>\n",
       "    </tr>\n",
       "    <tr>\n",
       "      <th>1118133</th>\n",
       "      <td>FieldEnable</td>\n",
       "      <td>com.fieldenable.app.fieldenable</td>\n",
       "      <td>Business</td>\n",
       "      <td>0.0</td>\n",
       "      <td>0.0</td>\n",
       "      <td>100+</td>\n",
       "      <td>100.0</td>\n",
       "      <td>282</td>\n",
       "      <td>True</td>\n",
       "      <td>0.0</td>\n",
       "      <td>...</td>\n",
       "      <td>Imaginnovate</td>\n",
       "      <td>http://www.imaginnovate.com</td>\n",
       "      <td>FieldEnable@imaginnovate.com</td>\n",
       "      <td>Apr 30, 2018</td>\n",
       "      <td>Nov 30, 2020</td>\n",
       "      <td>Everyone</td>\n",
       "      <td>http://tw.fieldenable.com/privacy</td>\n",
       "      <td>False</td>\n",
       "      <td>False</td>\n",
       "      <td>False</td>\n",
       "    </tr>\n",
       "    <tr>\n",
       "      <th>1118134</th>\n",
       "      <td>Live Concert</td>\n",
       "      <td>com.varbin.liveconcert</td>\n",
       "      <td>Events</td>\n",
       "      <td>0.0</td>\n",
       "      <td>0.0</td>\n",
       "      <td>500+</td>\n",
       "      <td>500.0</td>\n",
       "      <td>986</td>\n",
       "      <td>True</td>\n",
       "      <td>0.0</td>\n",
       "      <td>...</td>\n",
       "      <td>Varbin Softwares</td>\n",
       "      <td>http://varbin.com</td>\n",
       "      <td>varbinsoftware@gmail.com</td>\n",
       "      <td>Dec 20, 2017</td>\n",
       "      <td>Dec 20, 2017</td>\n",
       "      <td>Everyone</td>\n",
       "      <td>http://varbin.com/live-concert-privacy-policy</td>\n",
       "      <td>False</td>\n",
       "      <td>False</td>\n",
       "      <td>False</td>\n",
       "    </tr>\n",
       "    <tr>\n",
       "      <th>1118135</th>\n",
       "      <td>Rajput India</td>\n",
       "      <td>com.varbin.rajputindia</td>\n",
       "      <td>Social</td>\n",
       "      <td>4.6</td>\n",
       "      <td>81.0</td>\n",
       "      <td>10,000+</td>\n",
       "      <td>10000.0</td>\n",
       "      <td>18892</td>\n",
       "      <td>True</td>\n",
       "      <td>0.0</td>\n",
       "      <td>...</td>\n",
       "      <td>Varbin Softwares</td>\n",
       "      <td>http://varbin.com</td>\n",
       "      <td>rajputindia2017@gmail.com</td>\n",
       "      <td>Jun 15, 2017</td>\n",
       "      <td>Sep 27, 2018</td>\n",
       "      <td>Teen</td>\n",
       "      <td>NaN</td>\n",
       "      <td>True</td>\n",
       "      <td>False</td>\n",
       "      <td>False</td>\n",
       "    </tr>\n",
       "  </tbody>\n",
       "</table>\n",
       "<p>1118136 rows × 23 columns</p>\n",
       "</div>"
      ],
      "text/plain": [
       "                                                  App Name  \\\n",
       "0                                   HTTrack Website Copier   \n",
       "1                            World War 2: Offline Strategy   \n",
       "2                                                   WPSApp   \n",
       "3        OfficeSuite - Office, PDF, Word, Excel, PowerP...   \n",
       "4                                         Loud Player Free   \n",
       "...                                                    ...   \n",
       "1118131                                        FleetEnable   \n",
       "1118132                                          AutoThink   \n",
       "1118133                                        FieldEnable   \n",
       "1118134                                       Live Concert   \n",
       "1118135                                       Rajput India   \n",
       "\n",
       "                                  App Id       Category  Rating  Rating Count  \\\n",
       "0                    com.httrack.android  Communication     3.6        2848.0   \n",
       "1                        com.skizze.wwii       Strategy     4.3       17297.0   \n",
       "2                  com.themausoft.wpsapp          Tools     4.2      488639.0   \n",
       "3                 com.mobisystems.office       Business     4.2     1224420.0   \n",
       "4               com.arthelion.loudplayer  Music & Audio     4.2         665.0   \n",
       "...                                  ...            ...     ...           ...   \n",
       "1118131              com.fleetenable.app   Productivity     NaN           NaN   \n",
       "1118132        com.fleetenable.autothink   Productivity     0.0           0.0   \n",
       "1118133  com.fieldenable.app.fieldenable       Business     0.0           0.0   \n",
       "1118134           com.varbin.liveconcert         Events     0.0           0.0   \n",
       "1118135           com.varbin.rajputindia         Social     4.6          81.0   \n",
       "\n",
       "             Installs  Minimum Installs  Maximum Installs  Free  Price  ...  \\\n",
       "0            100,000+          100000.0            351560  True    0.0  ...   \n",
       "1          1,000,000+         1000000.0           2161778  True    0.0  ...   \n",
       "2         50,000,000+        50000000.0          79304739  True    0.0  ...   \n",
       "3        100,000,000+       100000000.0         163660067  True    0.0  ...   \n",
       "4             50,000+           50000.0             73463  True    0.0  ...   \n",
       "...               ...               ...               ...   ...    ...  ...   \n",
       "1118131           10+              10.0                10  True    0.0  ...   \n",
       "1118132          100+             100.0               127  True    0.0  ...   \n",
       "1118133          100+             100.0               282  True    0.0  ...   \n",
       "1118134          500+             500.0               986  True    0.0  ...   \n",
       "1118135       10,000+           10000.0             18892  True    0.0  ...   \n",
       "\n",
       "             Developer Id            Developer Website  \\\n",
       "0            Xavier Roche      http://www.httrack.com/   \n",
       "1            Skizze Games          http://stereo7.com/   \n",
       "2              TheMauSoft    http://www.themausoft.com   \n",
       "3             MobiSystems   http://www.mobisystems.com   \n",
       "4             Arthelion92     http://www.arthelion.com   \n",
       "...                   ...                          ...   \n",
       "1118131      Imaginnovate      http://fleetenable.com/   \n",
       "1118132      Imaginnovate  http://www.imaginnovate.com   \n",
       "1118133      Imaginnovate  http://www.imaginnovate.com   \n",
       "1118134  Varbin Softwares            http://varbin.com   \n",
       "1118135  Varbin Softwares            http://varbin.com   \n",
       "\n",
       "                                     Developer Email      Released  \\\n",
       "0                          roche+android@httrack.com  Aug 12, 2013   \n",
       "1                             Skizze.Games@gmail.com  Jul 19, 2018   \n",
       "2                               wpsapp.app@gmail.com   Mar 7, 2016   \n",
       "3        support-officesuite-android@mobisystems.com  Dec 22, 2011   \n",
       "4                              arthelion92@gmail.com  Sep 24, 2016   \n",
       "...                                              ...           ...   \n",
       "1118131                     krishna@imaginnovate.com           NaN   \n",
       "1118132                     krishna@imaginnovate.com  Nov 26, 2019   \n",
       "1118133                 FieldEnable@imaginnovate.com  Apr 30, 2018   \n",
       "1118134                     varbinsoftware@gmail.com  Dec 20, 2017   \n",
       "1118135                    rajputindia2017@gmail.com  Jun 15, 2017   \n",
       "\n",
       "         Last Updated Content Rating  \\\n",
       "0        May 20, 2017       Everyone   \n",
       "1        Nov 26, 2020   Everyone 10+   \n",
       "2        Oct 21, 2020       Everyone   \n",
       "3        Nov 23, 2020       Everyone   \n",
       "4        Nov 22, 2020       Everyone   \n",
       "...               ...            ...   \n",
       "1118131  Jun 30, 2020       Everyone   \n",
       "1118132  Nov 13, 2020       Everyone   \n",
       "1118133  Nov 30, 2020       Everyone   \n",
       "1118134  Dec 20, 2017       Everyone   \n",
       "1118135  Sep 27, 2018           Teen   \n",
       "\n",
       "                                            Privacy Policy Ad Supported  \\\n",
       "0           http://android.httrack.com/privacy-policy.html        False   \n",
       "1           https://www.iubenda.com/privacy-policy/8032781         True   \n",
       "2          https://sites.google.com/view/wpsapppolicy/main         True   \n",
       "3        http://www.mobisystems.com/mobile/privacy-poli...         True   \n",
       "4        http://www.arthelion.com/index.php/fr/android-...        False   \n",
       "...                                                    ...          ...   \n",
       "1118131                            http://fleetenable.com/        False   \n",
       "1118132                        http://www.imaginnovate.com        False   \n",
       "1118133                  http://tw.fieldenable.com/privacy        False   \n",
       "1118134      http://varbin.com/live-concert-privacy-policy        False   \n",
       "1118135                                                NaN         True   \n",
       "\n",
       "        In App Purchases Editors Choice  \n",
       "0                  False          False  \n",
       "1                   True          False  \n",
       "2                  False          False  \n",
       "3                   True          False  \n",
       "4                  False          False  \n",
       "...                  ...            ...  \n",
       "1118131            False          False  \n",
       "1118132            False          False  \n",
       "1118133            False          False  \n",
       "1118134            False          False  \n",
       "1118135            False          False  \n",
       "\n",
       "[1118136 rows x 23 columns]"
      ]
     },
     "execution_count": 3,
     "metadata": {},
     "output_type": "execute_result"
    }
   ],
   "source": [
    "data1"
   ]
  },
  {
   "cell_type": "markdown",
   "metadata": {},
   "source": [
    "<b><font size = 5>Head() and Tail()</font></b>"
   ]
  },
  {
   "cell_type": "code",
   "execution_count": 4,
   "metadata": {},
   "outputs": [
    {
     "data": {
      "text/html": [
       "<div>\n",
       "<style scoped>\n",
       "    .dataframe tbody tr th:only-of-type {\n",
       "        vertical-align: middle;\n",
       "    }\n",
       "\n",
       "    .dataframe tbody tr th {\n",
       "        vertical-align: top;\n",
       "    }\n",
       "\n",
       "    .dataframe thead th {\n",
       "        text-align: right;\n",
       "    }\n",
       "</style>\n",
       "<table border=\"1\" class=\"dataframe\">\n",
       "  <thead>\n",
       "    <tr style=\"text-align: right;\">\n",
       "      <th></th>\n",
       "      <th>App Name</th>\n",
       "      <th>App Id</th>\n",
       "      <th>Category</th>\n",
       "      <th>Rating</th>\n",
       "      <th>Rating Count</th>\n",
       "      <th>Installs</th>\n",
       "      <th>Minimum Installs</th>\n",
       "      <th>Maximum Installs</th>\n",
       "      <th>Free</th>\n",
       "      <th>Price</th>\n",
       "      <th>...</th>\n",
       "      <th>Developer Id</th>\n",
       "      <th>Developer Website</th>\n",
       "      <th>Developer Email</th>\n",
       "      <th>Released</th>\n",
       "      <th>Last Updated</th>\n",
       "      <th>Content Rating</th>\n",
       "      <th>Privacy Policy</th>\n",
       "      <th>Ad Supported</th>\n",
       "      <th>In App Purchases</th>\n",
       "      <th>Editors Choice</th>\n",
       "    </tr>\n",
       "  </thead>\n",
       "  <tbody>\n",
       "    <tr>\n",
       "      <th>0</th>\n",
       "      <td>HTTrack Website Copier</td>\n",
       "      <td>com.httrack.android</td>\n",
       "      <td>Communication</td>\n",
       "      <td>3.6</td>\n",
       "      <td>2848.0</td>\n",
       "      <td>100,000+</td>\n",
       "      <td>100000.0</td>\n",
       "      <td>351560</td>\n",
       "      <td>True</td>\n",
       "      <td>0.0</td>\n",
       "      <td>...</td>\n",
       "      <td>Xavier Roche</td>\n",
       "      <td>http://www.httrack.com/</td>\n",
       "      <td>roche+android@httrack.com</td>\n",
       "      <td>Aug 12, 2013</td>\n",
       "      <td>May 20, 2017</td>\n",
       "      <td>Everyone</td>\n",
       "      <td>http://android.httrack.com/privacy-policy.html</td>\n",
       "      <td>False</td>\n",
       "      <td>False</td>\n",
       "      <td>False</td>\n",
       "    </tr>\n",
       "    <tr>\n",
       "      <th>1</th>\n",
       "      <td>World War 2: Offline Strategy</td>\n",
       "      <td>com.skizze.wwii</td>\n",
       "      <td>Strategy</td>\n",
       "      <td>4.3</td>\n",
       "      <td>17297.0</td>\n",
       "      <td>1,000,000+</td>\n",
       "      <td>1000000.0</td>\n",
       "      <td>2161778</td>\n",
       "      <td>True</td>\n",
       "      <td>0.0</td>\n",
       "      <td>...</td>\n",
       "      <td>Skizze Games</td>\n",
       "      <td>http://stereo7.com/</td>\n",
       "      <td>Skizze.Games@gmail.com</td>\n",
       "      <td>Jul 19, 2018</td>\n",
       "      <td>Nov 26, 2020</td>\n",
       "      <td>Everyone 10+</td>\n",
       "      <td>https://www.iubenda.com/privacy-policy/8032781</td>\n",
       "      <td>True</td>\n",
       "      <td>True</td>\n",
       "      <td>False</td>\n",
       "    </tr>\n",
       "    <tr>\n",
       "      <th>2</th>\n",
       "      <td>WPSApp</td>\n",
       "      <td>com.themausoft.wpsapp</td>\n",
       "      <td>Tools</td>\n",
       "      <td>4.2</td>\n",
       "      <td>488639.0</td>\n",
       "      <td>50,000,000+</td>\n",
       "      <td>50000000.0</td>\n",
       "      <td>79304739</td>\n",
       "      <td>True</td>\n",
       "      <td>0.0</td>\n",
       "      <td>...</td>\n",
       "      <td>TheMauSoft</td>\n",
       "      <td>http://www.themausoft.com</td>\n",
       "      <td>wpsapp.app@gmail.com</td>\n",
       "      <td>Mar 7, 2016</td>\n",
       "      <td>Oct 21, 2020</td>\n",
       "      <td>Everyone</td>\n",
       "      <td>https://sites.google.com/view/wpsapppolicy/main</td>\n",
       "      <td>True</td>\n",
       "      <td>False</td>\n",
       "      <td>False</td>\n",
       "    </tr>\n",
       "    <tr>\n",
       "      <th>3</th>\n",
       "      <td>OfficeSuite - Office, PDF, Word, Excel, PowerP...</td>\n",
       "      <td>com.mobisystems.office</td>\n",
       "      <td>Business</td>\n",
       "      <td>4.2</td>\n",
       "      <td>1224420.0</td>\n",
       "      <td>100,000,000+</td>\n",
       "      <td>100000000.0</td>\n",
       "      <td>163660067</td>\n",
       "      <td>True</td>\n",
       "      <td>0.0</td>\n",
       "      <td>...</td>\n",
       "      <td>MobiSystems</td>\n",
       "      <td>http://www.mobisystems.com</td>\n",
       "      <td>support-officesuite-android@mobisystems.com</td>\n",
       "      <td>Dec 22, 2011</td>\n",
       "      <td>Nov 23, 2020</td>\n",
       "      <td>Everyone</td>\n",
       "      <td>http://www.mobisystems.com/mobile/privacy-poli...</td>\n",
       "      <td>True</td>\n",
       "      <td>True</td>\n",
       "      <td>False</td>\n",
       "    </tr>\n",
       "    <tr>\n",
       "      <th>4</th>\n",
       "      <td>Loud Player Free</td>\n",
       "      <td>com.arthelion.loudplayer</td>\n",
       "      <td>Music &amp; Audio</td>\n",
       "      <td>4.2</td>\n",
       "      <td>665.0</td>\n",
       "      <td>50,000+</td>\n",
       "      <td>50000.0</td>\n",
       "      <td>73463</td>\n",
       "      <td>True</td>\n",
       "      <td>0.0</td>\n",
       "      <td>...</td>\n",
       "      <td>Arthelion92</td>\n",
       "      <td>http://www.arthelion.com</td>\n",
       "      <td>arthelion92@gmail.com</td>\n",
       "      <td>Sep 24, 2016</td>\n",
       "      <td>Nov 22, 2020</td>\n",
       "      <td>Everyone</td>\n",
       "      <td>http://www.arthelion.com/index.php/fr/android-...</td>\n",
       "      <td>False</td>\n",
       "      <td>False</td>\n",
       "      <td>False</td>\n",
       "    </tr>\n",
       "  </tbody>\n",
       "</table>\n",
       "<p>5 rows × 23 columns</p>\n",
       "</div>"
      ],
      "text/plain": [
       "                                            App Name  \\\n",
       "0                             HTTrack Website Copier   \n",
       "1                      World War 2: Offline Strategy   \n",
       "2                                             WPSApp   \n",
       "3  OfficeSuite - Office, PDF, Word, Excel, PowerP...   \n",
       "4                                   Loud Player Free   \n",
       "\n",
       "                     App Id       Category  Rating  Rating Count  \\\n",
       "0       com.httrack.android  Communication     3.6        2848.0   \n",
       "1           com.skizze.wwii       Strategy     4.3       17297.0   \n",
       "2     com.themausoft.wpsapp          Tools     4.2      488639.0   \n",
       "3    com.mobisystems.office       Business     4.2     1224420.0   \n",
       "4  com.arthelion.loudplayer  Music & Audio     4.2         665.0   \n",
       "\n",
       "       Installs  Minimum Installs  Maximum Installs  Free  Price  ...  \\\n",
       "0      100,000+          100000.0            351560  True    0.0  ...   \n",
       "1    1,000,000+         1000000.0           2161778  True    0.0  ...   \n",
       "2   50,000,000+        50000000.0          79304739  True    0.0  ...   \n",
       "3  100,000,000+       100000000.0         163660067  True    0.0  ...   \n",
       "4       50,000+           50000.0             73463  True    0.0  ...   \n",
       "\n",
       "   Developer Id           Developer Website  \\\n",
       "0  Xavier Roche     http://www.httrack.com/   \n",
       "1  Skizze Games         http://stereo7.com/   \n",
       "2    TheMauSoft   http://www.themausoft.com   \n",
       "3   MobiSystems  http://www.mobisystems.com   \n",
       "4   Arthelion92    http://www.arthelion.com   \n",
       "\n",
       "                               Developer Email      Released  Last Updated  \\\n",
       "0                    roche+android@httrack.com  Aug 12, 2013  May 20, 2017   \n",
       "1                       Skizze.Games@gmail.com  Jul 19, 2018  Nov 26, 2020   \n",
       "2                         wpsapp.app@gmail.com   Mar 7, 2016  Oct 21, 2020   \n",
       "3  support-officesuite-android@mobisystems.com  Dec 22, 2011  Nov 23, 2020   \n",
       "4                        arthelion92@gmail.com  Sep 24, 2016  Nov 22, 2020   \n",
       "\n",
       "  Content Rating                                     Privacy Policy  \\\n",
       "0       Everyone     http://android.httrack.com/privacy-policy.html   \n",
       "1   Everyone 10+     https://www.iubenda.com/privacy-policy/8032781   \n",
       "2       Everyone    https://sites.google.com/view/wpsapppolicy/main   \n",
       "3       Everyone  http://www.mobisystems.com/mobile/privacy-poli...   \n",
       "4       Everyone  http://www.arthelion.com/index.php/fr/android-...   \n",
       "\n",
       "  Ad Supported In App Purchases Editors Choice  \n",
       "0        False            False          False  \n",
       "1         True             True          False  \n",
       "2         True            False          False  \n",
       "3         True             True          False  \n",
       "4        False            False          False  \n",
       "\n",
       "[5 rows x 23 columns]"
      ]
     },
     "execution_count": 4,
     "metadata": {},
     "output_type": "execute_result"
    }
   ],
   "source": [
    "data1.head()"
   ]
  },
  {
   "cell_type": "code",
   "execution_count": 5,
   "metadata": {},
   "outputs": [
    {
     "data": {
      "text/html": [
       "<div>\n",
       "<style scoped>\n",
       "    .dataframe tbody tr th:only-of-type {\n",
       "        vertical-align: middle;\n",
       "    }\n",
       "\n",
       "    .dataframe tbody tr th {\n",
       "        vertical-align: top;\n",
       "    }\n",
       "\n",
       "    .dataframe thead th {\n",
       "        text-align: right;\n",
       "    }\n",
       "</style>\n",
       "<table border=\"1\" class=\"dataframe\">\n",
       "  <thead>\n",
       "    <tr style=\"text-align: right;\">\n",
       "      <th></th>\n",
       "      <th>App Name</th>\n",
       "      <th>App Id</th>\n",
       "      <th>Category</th>\n",
       "      <th>Rating</th>\n",
       "      <th>Rating Count</th>\n",
       "      <th>Installs</th>\n",
       "      <th>Minimum Installs</th>\n",
       "      <th>Maximum Installs</th>\n",
       "      <th>Free</th>\n",
       "      <th>Price</th>\n",
       "      <th>...</th>\n",
       "      <th>Developer Id</th>\n",
       "      <th>Developer Website</th>\n",
       "      <th>Developer Email</th>\n",
       "      <th>Released</th>\n",
       "      <th>Last Updated</th>\n",
       "      <th>Content Rating</th>\n",
       "      <th>Privacy Policy</th>\n",
       "      <th>Ad Supported</th>\n",
       "      <th>In App Purchases</th>\n",
       "      <th>Editors Choice</th>\n",
       "    </tr>\n",
       "  </thead>\n",
       "  <tbody>\n",
       "    <tr>\n",
       "      <th>1118131</th>\n",
       "      <td>FleetEnable</td>\n",
       "      <td>com.fleetenable.app</td>\n",
       "      <td>Productivity</td>\n",
       "      <td>NaN</td>\n",
       "      <td>NaN</td>\n",
       "      <td>10+</td>\n",
       "      <td>10.0</td>\n",
       "      <td>10</td>\n",
       "      <td>True</td>\n",
       "      <td>0.0</td>\n",
       "      <td>...</td>\n",
       "      <td>Imaginnovate</td>\n",
       "      <td>http://fleetenable.com/</td>\n",
       "      <td>krishna@imaginnovate.com</td>\n",
       "      <td>NaN</td>\n",
       "      <td>Jun 30, 2020</td>\n",
       "      <td>Everyone</td>\n",
       "      <td>http://fleetenable.com/</td>\n",
       "      <td>False</td>\n",
       "      <td>False</td>\n",
       "      <td>False</td>\n",
       "    </tr>\n",
       "    <tr>\n",
       "      <th>1118132</th>\n",
       "      <td>AutoThink</td>\n",
       "      <td>com.fleetenable.autothink</td>\n",
       "      <td>Productivity</td>\n",
       "      <td>0.0</td>\n",
       "      <td>0.0</td>\n",
       "      <td>100+</td>\n",
       "      <td>100.0</td>\n",
       "      <td>127</td>\n",
       "      <td>True</td>\n",
       "      <td>0.0</td>\n",
       "      <td>...</td>\n",
       "      <td>Imaginnovate</td>\n",
       "      <td>http://www.imaginnovate.com</td>\n",
       "      <td>krishna@imaginnovate.com</td>\n",
       "      <td>Nov 26, 2019</td>\n",
       "      <td>Nov 13, 2020</td>\n",
       "      <td>Everyone</td>\n",
       "      <td>http://www.imaginnovate.com</td>\n",
       "      <td>False</td>\n",
       "      <td>False</td>\n",
       "      <td>False</td>\n",
       "    </tr>\n",
       "    <tr>\n",
       "      <th>1118133</th>\n",
       "      <td>FieldEnable</td>\n",
       "      <td>com.fieldenable.app.fieldenable</td>\n",
       "      <td>Business</td>\n",
       "      <td>0.0</td>\n",
       "      <td>0.0</td>\n",
       "      <td>100+</td>\n",
       "      <td>100.0</td>\n",
       "      <td>282</td>\n",
       "      <td>True</td>\n",
       "      <td>0.0</td>\n",
       "      <td>...</td>\n",
       "      <td>Imaginnovate</td>\n",
       "      <td>http://www.imaginnovate.com</td>\n",
       "      <td>FieldEnable@imaginnovate.com</td>\n",
       "      <td>Apr 30, 2018</td>\n",
       "      <td>Nov 30, 2020</td>\n",
       "      <td>Everyone</td>\n",
       "      <td>http://tw.fieldenable.com/privacy</td>\n",
       "      <td>False</td>\n",
       "      <td>False</td>\n",
       "      <td>False</td>\n",
       "    </tr>\n",
       "    <tr>\n",
       "      <th>1118134</th>\n",
       "      <td>Live Concert</td>\n",
       "      <td>com.varbin.liveconcert</td>\n",
       "      <td>Events</td>\n",
       "      <td>0.0</td>\n",
       "      <td>0.0</td>\n",
       "      <td>500+</td>\n",
       "      <td>500.0</td>\n",
       "      <td>986</td>\n",
       "      <td>True</td>\n",
       "      <td>0.0</td>\n",
       "      <td>...</td>\n",
       "      <td>Varbin Softwares</td>\n",
       "      <td>http://varbin.com</td>\n",
       "      <td>varbinsoftware@gmail.com</td>\n",
       "      <td>Dec 20, 2017</td>\n",
       "      <td>Dec 20, 2017</td>\n",
       "      <td>Everyone</td>\n",
       "      <td>http://varbin.com/live-concert-privacy-policy</td>\n",
       "      <td>False</td>\n",
       "      <td>False</td>\n",
       "      <td>False</td>\n",
       "    </tr>\n",
       "    <tr>\n",
       "      <th>1118135</th>\n",
       "      <td>Rajput India</td>\n",
       "      <td>com.varbin.rajputindia</td>\n",
       "      <td>Social</td>\n",
       "      <td>4.6</td>\n",
       "      <td>81.0</td>\n",
       "      <td>10,000+</td>\n",
       "      <td>10000.0</td>\n",
       "      <td>18892</td>\n",
       "      <td>True</td>\n",
       "      <td>0.0</td>\n",
       "      <td>...</td>\n",
       "      <td>Varbin Softwares</td>\n",
       "      <td>http://varbin.com</td>\n",
       "      <td>rajputindia2017@gmail.com</td>\n",
       "      <td>Jun 15, 2017</td>\n",
       "      <td>Sep 27, 2018</td>\n",
       "      <td>Teen</td>\n",
       "      <td>NaN</td>\n",
       "      <td>True</td>\n",
       "      <td>False</td>\n",
       "      <td>False</td>\n",
       "    </tr>\n",
       "  </tbody>\n",
       "</table>\n",
       "<p>5 rows × 23 columns</p>\n",
       "</div>"
      ],
      "text/plain": [
       "             App Name                           App Id      Category  Rating  \\\n",
       "1118131   FleetEnable              com.fleetenable.app  Productivity     NaN   \n",
       "1118132     AutoThink        com.fleetenable.autothink  Productivity     0.0   \n",
       "1118133   FieldEnable  com.fieldenable.app.fieldenable      Business     0.0   \n",
       "1118134  Live Concert           com.varbin.liveconcert        Events     0.0   \n",
       "1118135  Rajput India           com.varbin.rajputindia        Social     4.6   \n",
       "\n",
       "         Rating Count Installs  Minimum Installs  Maximum Installs  Free  \\\n",
       "1118131           NaN      10+              10.0                10  True   \n",
       "1118132           0.0     100+             100.0               127  True   \n",
       "1118133           0.0     100+             100.0               282  True   \n",
       "1118134           0.0     500+             500.0               986  True   \n",
       "1118135          81.0  10,000+           10000.0             18892  True   \n",
       "\n",
       "         Price  ...      Developer Id            Developer Website  \\\n",
       "1118131    0.0  ...      Imaginnovate      http://fleetenable.com/   \n",
       "1118132    0.0  ...      Imaginnovate  http://www.imaginnovate.com   \n",
       "1118133    0.0  ...      Imaginnovate  http://www.imaginnovate.com   \n",
       "1118134    0.0  ...  Varbin Softwares            http://varbin.com   \n",
       "1118135    0.0  ...  Varbin Softwares            http://varbin.com   \n",
       "\n",
       "                      Developer Email      Released  Last Updated  \\\n",
       "1118131      krishna@imaginnovate.com           NaN  Jun 30, 2020   \n",
       "1118132      krishna@imaginnovate.com  Nov 26, 2019  Nov 13, 2020   \n",
       "1118133  FieldEnable@imaginnovate.com  Apr 30, 2018  Nov 30, 2020   \n",
       "1118134      varbinsoftware@gmail.com  Dec 20, 2017  Dec 20, 2017   \n",
       "1118135     rajputindia2017@gmail.com  Jun 15, 2017  Sep 27, 2018   \n",
       "\n",
       "        Content Rating                                 Privacy Policy  \\\n",
       "1118131       Everyone                        http://fleetenable.com/   \n",
       "1118132       Everyone                    http://www.imaginnovate.com   \n",
       "1118133       Everyone              http://tw.fieldenable.com/privacy   \n",
       "1118134       Everyone  http://varbin.com/live-concert-privacy-policy   \n",
       "1118135           Teen                                            NaN   \n",
       "\n",
       "        Ad Supported In App Purchases Editors Choice  \n",
       "1118131        False            False          False  \n",
       "1118132        False            False          False  \n",
       "1118133        False            False          False  \n",
       "1118134        False            False          False  \n",
       "1118135         True            False          False  \n",
       "\n",
       "[5 rows x 23 columns]"
      ]
     },
     "execution_count": 5,
     "metadata": {},
     "output_type": "execute_result"
    }
   ],
   "source": [
    "data1.tail()\n"
   ]
  },
  {
   "cell_type": "markdown",
   "metadata": {},
   "source": [
    "<b><font size = 5>Dataset Description</font></b>"
   ]
  },
  {
   "cell_type": "code",
   "execution_count": 6,
   "metadata": {},
   "outputs": [
    {
     "data": {
      "text/plain": [
       "(1118136, 23)"
      ]
     },
     "execution_count": 6,
     "metadata": {},
     "output_type": "execute_result"
    }
   ],
   "source": [
    "data1.shape\n"
   ]
  },
  {
   "cell_type": "code",
   "execution_count": 7,
   "metadata": {
    "scrolled": false
   },
   "outputs": [
    {
     "name": "stdout",
     "output_type": "stream",
     "text": [
      "             Rating  Rating Count  Minimum Installs  Maximum Installs  \\\n",
      "count  1.111286e+06  1.111286e+06      1.117975e+06      1.118136e+06   \n",
      "mean   2.490334e+00  5.159633e+03      3.136432e+05      5.444534e+05   \n",
      "std    2.053973e+00  2.724094e+05      2.043941e+07      3.031058e+07   \n",
      "min    0.000000e+00  0.000000e+00      0.000000e+00      0.000000e+00   \n",
      "25%    0.000000e+00  0.000000e+00      1.000000e+02      1.600000e+02   \n",
      "50%    3.600000e+00  1.100000e+01      1.000000e+03      1.719000e+03   \n",
      "75%    4.300000e+00  1.000000e+02      1.000000e+04      1.911600e+04   \n",
      "max    5.000000e+00  1.253808e+08      1.000000e+10      1.077270e+10   \n",
      "\n",
      "              Price  \n",
      "count  1.118136e+06  \n",
      "mean   2.050728e-01  \n",
      "std    3.541011e+00  \n",
      "min    0.000000e+00  \n",
      "25%    0.000000e+00  \n",
      "50%    0.000000e+00  \n",
      "75%    0.000000e+00  \n",
      "max    4.000000e+02  \n"
     ]
    }
   ],
   "source": [
    "print(data1.describe())"
   ]
  },
  {
   "cell_type": "code",
   "execution_count": 8,
   "metadata": {
    "scrolled": true
   },
   "outputs": [
    {
     "name": "stdout",
     "output_type": "stream",
     "text": [
      "<class 'pandas.core.frame.DataFrame'>\n",
      "RangeIndex: 1118136 entries, 0 to 1118135\n",
      "Data columns (total 23 columns):\n",
      " #   Column             Non-Null Count    Dtype  \n",
      "---  ------             --------------    -----  \n",
      " 0   App Name           1118135 non-null  object \n",
      " 1   App Id             1118136 non-null  object \n",
      " 2   Category           1118133 non-null  object \n",
      " 3   Rating             1111286 non-null  float64\n",
      " 4   Rating Count       1111286 non-null  float64\n",
      " 5   Installs           1117975 non-null  object \n",
      " 6   Minimum Installs   1117975 non-null  float64\n",
      " 7   Maximum Installs   1118136 non-null  int64  \n",
      " 8   Free               1118136 non-null  bool   \n",
      " 9   Price              1118136 non-null  float64\n",
      " 10  Currency           1117975 non-null  object \n",
      " 11  Size               1118136 non-null  object \n",
      " 12  Minimum Android    1116123 non-null  object \n",
      " 13  Developer Id       1118134 non-null  object \n",
      " 14  Developer Website  703770 non-null   object \n",
      " 15  Developer Email    1118114 non-null  object \n",
      " 16  Released           1110406 non-null  object \n",
      " 17  Last Updated       1118136 non-null  object \n",
      " 18  Content Rating     1118136 non-null  object \n",
      " 19  Privacy Policy     964612 non-null   object \n",
      " 20  Ad Supported       1118136 non-null  bool   \n",
      " 21  In App Purchases   1118136 non-null  bool   \n",
      " 22  Editors Choice     1118136 non-null  bool   \n",
      "dtypes: bool(4), float64(4), int64(1), object(14)\n",
      "memory usage: 166.3+ MB\n",
      "None\n"
     ]
    }
   ],
   "source": [
    "print(data1.info())\n"
   ]
  },
  {
   "cell_type": "code",
   "execution_count": 9,
   "metadata": {},
   "outputs": [
    {
     "data": {
      "text/plain": [
       "True     1071333\n",
       "False      46803\n",
       "Name: Free, dtype: int64"
      ]
     },
     "execution_count": 9,
     "metadata": {},
     "output_type": "execute_result"
    }
   ],
   "source": [
    "data1['Free'].value_counts()"
   ]
  },
  {
   "cell_type": "code",
   "execution_count": 10,
   "metadata": {
    "scrolled": false
   },
   "outputs": [
    {
     "data": {
      "text/html": [
       "<div>\n",
       "<style scoped>\n",
       "    .dataframe tbody tr th:only-of-type {\n",
       "        vertical-align: middle;\n",
       "    }\n",
       "\n",
       "    .dataframe tbody tr th {\n",
       "        vertical-align: top;\n",
       "    }\n",
       "\n",
       "    .dataframe thead th {\n",
       "        text-align: right;\n",
       "    }\n",
       "</style>\n",
       "<table border=\"1\" class=\"dataframe\">\n",
       "  <thead>\n",
       "    <tr style=\"text-align: right;\">\n",
       "      <th></th>\n",
       "      <th>App Name</th>\n",
       "      <th>App Id</th>\n",
       "      <th>Category</th>\n",
       "      <th>Rating</th>\n",
       "      <th>Rating Count</th>\n",
       "      <th>Installs</th>\n",
       "      <th>Minimum Installs</th>\n",
       "      <th>Maximum Installs</th>\n",
       "      <th>Free</th>\n",
       "      <th>Price</th>\n",
       "      <th>...</th>\n",
       "      <th>Developer Id</th>\n",
       "      <th>Developer Website</th>\n",
       "      <th>Developer Email</th>\n",
       "      <th>Released</th>\n",
       "      <th>Last Updated</th>\n",
       "      <th>Content Rating</th>\n",
       "      <th>Privacy Policy</th>\n",
       "      <th>Ad Supported</th>\n",
       "      <th>In App Purchases</th>\n",
       "      <th>Editors Choice</th>\n",
       "    </tr>\n",
       "  </thead>\n",
       "  <tbody>\n",
       "    <tr>\n",
       "      <th>1027334</th>\n",
       "      <td>Voermol</td>\n",
       "      <td>com.mountainhops.voermol</td>\n",
       "      <td>Books &amp; Reference</td>\n",
       "      <td>5.0</td>\n",
       "      <td>15.0</td>\n",
       "      <td>5,000+</td>\n",
       "      <td>5000.0</td>\n",
       "      <td>5390</td>\n",
       "      <td>True</td>\n",
       "      <td>0.0</td>\n",
       "      <td>...</td>\n",
       "      <td>Mountain Hops Software</td>\n",
       "      <td>http://voermol.co.za</td>\n",
       "      <td>wessel@mountainhops.co.za</td>\n",
       "      <td>Jul 9, 2018</td>\n",
       "      <td>Sep 17, 2020</td>\n",
       "      <td>Everyone</td>\n",
       "      <td>http://voermol.co.za.dedi406.flk1.host-h.net/e...</td>\n",
       "      <td>False</td>\n",
       "      <td>False</td>\n",
       "      <td>False</td>\n",
       "    </tr>\n",
       "    <tr>\n",
       "      <th>36075</th>\n",
       "      <td>Media Event</td>\n",
       "      <td>se.wip.volvocars.mediaevent</td>\n",
       "      <td>News &amp; Magazines</td>\n",
       "      <td>5.0</td>\n",
       "      <td>8.0</td>\n",
       "      <td>1,000+</td>\n",
       "      <td>1000.0</td>\n",
       "      <td>4674</td>\n",
       "      <td>True</td>\n",
       "      <td>0.0</td>\n",
       "      <td>...</td>\n",
       "      <td>Volvo Cars</td>\n",
       "      <td>http://www.volvocars.com</td>\n",
       "      <td>swedencr@volvocars.com</td>\n",
       "      <td>Sep 13, 2017</td>\n",
       "      <td>Jan 09, 2018</td>\n",
       "      <td>Everyone</td>\n",
       "      <td>http://www.volvocars.com/intl/footer/privacy</td>\n",
       "      <td>False</td>\n",
       "      <td>False</td>\n",
       "      <td>False</td>\n",
       "    </tr>\n",
       "    <tr>\n",
       "      <th>1009483</th>\n",
       "      <td>Farza Al Yemen</td>\n",
       "      <td>com.kood.farza</td>\n",
       "      <td>Travel &amp; Local</td>\n",
       "      <td>5.0</td>\n",
       "      <td>7.0</td>\n",
       "      <td>100+</td>\n",
       "      <td>100.0</td>\n",
       "      <td>432</td>\n",
       "      <td>True</td>\n",
       "      <td>0.0</td>\n",
       "      <td>...</td>\n",
       "      <td>Advance Fawasel</td>\n",
       "      <td>http://hfreelancer.com/</td>\n",
       "      <td>asklawyer24@gmail.com</td>\n",
       "      <td>Feb 26, 2020</td>\n",
       "      <td>Mar 01, 2020</td>\n",
       "      <td>Everyone</td>\n",
       "      <td>http://hfreelancer.com/</td>\n",
       "      <td>False</td>\n",
       "      <td>False</td>\n",
       "      <td>False</td>\n",
       "    </tr>\n",
       "    <tr>\n",
       "      <th>348566</th>\n",
       "      <td>Strawberry Clock Live Wallpaper</td>\n",
       "      <td>colorshotstudio.apps.strawberryclock</td>\n",
       "      <td>Personalization</td>\n",
       "      <td>5.0</td>\n",
       "      <td>5.0</td>\n",
       "      <td>100+</td>\n",
       "      <td>100.0</td>\n",
       "      <td>233</td>\n",
       "      <td>True</td>\n",
       "      <td>0.0</td>\n",
       "      <td>...</td>\n",
       "      <td>Color Shot Studio</td>\n",
       "      <td>https://colorshotstudios.blogspot.com/</td>\n",
       "      <td>colorshotstudio369@gmail.com</td>\n",
       "      <td>Jul 4, 2019</td>\n",
       "      <td>Jul 04, 2019</td>\n",
       "      <td>Everyone</td>\n",
       "      <td>https://colorshotstudios.blogspot.com/2019/07/...</td>\n",
       "      <td>True</td>\n",
       "      <td>False</td>\n",
       "      <td>False</td>\n",
       "    </tr>\n",
       "    <tr>\n",
       "      <th>940115</th>\n",
       "      <td>Gofgue Rajasthan GK All in One</td>\n",
       "      <td>com.gofgue.rajasthangkallinone</td>\n",
       "      <td>Education</td>\n",
       "      <td>5.0</td>\n",
       "      <td>5.0</td>\n",
       "      <td>50+</td>\n",
       "      <td>50.0</td>\n",
       "      <td>90</td>\n",
       "      <td>True</td>\n",
       "      <td>0.0</td>\n",
       "      <td>...</td>\n",
       "      <td>gofgue e-solutions</td>\n",
       "      <td>NaN</td>\n",
       "      <td>gofgue@gmail.com</td>\n",
       "      <td>Jan 30, 2020</td>\n",
       "      <td>Jan 31, 2020</td>\n",
       "      <td>Everyone</td>\n",
       "      <td>NaN</td>\n",
       "      <td>True</td>\n",
       "      <td>False</td>\n",
       "      <td>False</td>\n",
       "    </tr>\n",
       "    <tr>\n",
       "      <th>...</th>\n",
       "      <td>...</td>\n",
       "      <td>...</td>\n",
       "      <td>...</td>\n",
       "      <td>...</td>\n",
       "      <td>...</td>\n",
       "      <td>...</td>\n",
       "      <td>...</td>\n",
       "      <td>...</td>\n",
       "      <td>...</td>\n",
       "      <td>...</td>\n",
       "      <td>...</td>\n",
       "      <td>...</td>\n",
       "      <td>...</td>\n",
       "      <td>...</td>\n",
       "      <td>...</td>\n",
       "      <td>...</td>\n",
       "      <td>...</td>\n",
       "      <td>...</td>\n",
       "      <td>...</td>\n",
       "      <td>...</td>\n",
       "      <td>...</td>\n",
       "    </tr>\n",
       "    <tr>\n",
       "      <th>1117721</th>\n",
       "      <td>UHD IPTV Player</td>\n",
       "      <td>com.iptvservice.iptvplayer</td>\n",
       "      <td>Video Players &amp; Editors</td>\n",
       "      <td>NaN</td>\n",
       "      <td>NaN</td>\n",
       "      <td>5,000+</td>\n",
       "      <td>5000.0</td>\n",
       "      <td>9300</td>\n",
       "      <td>True</td>\n",
       "      <td>0.0</td>\n",
       "      <td>...</td>\n",
       "      <td>UHDSoft</td>\n",
       "      <td>NaN</td>\n",
       "      <td>uhdsoftinfo@gmail.com</td>\n",
       "      <td>NaN</td>\n",
       "      <td>Nov 17, 2020</td>\n",
       "      <td>Everyone</td>\n",
       "      <td>https://teletype.in/@uhdiptvplayer/uhdtvplayer...</td>\n",
       "      <td>True</td>\n",
       "      <td>True</td>\n",
       "      <td>False</td>\n",
       "    </tr>\n",
       "    <tr>\n",
       "      <th>1117914</th>\n",
       "      <td>Women Workout : SexyButt 30 Days</td>\n",
       "      <td>fitness.workout.Women.fitnessworkout</td>\n",
       "      <td>Health &amp; Fitness</td>\n",
       "      <td>NaN</td>\n",
       "      <td>NaN</td>\n",
       "      <td>1+</td>\n",
       "      <td>1.0</td>\n",
       "      <td>2</td>\n",
       "      <td>True</td>\n",
       "      <td>0.0</td>\n",
       "      <td>...</td>\n",
       "      <td>CartaDev</td>\n",
       "      <td>NaN</td>\n",
       "      <td>awaliking@gmail.com</td>\n",
       "      <td>NaN</td>\n",
       "      <td>Oct 09, 2020</td>\n",
       "      <td>Everyone</td>\n",
       "      <td>https://quickappninja.com/game-privacy-policy....</td>\n",
       "      <td>True</td>\n",
       "      <td>False</td>\n",
       "      <td>False</td>\n",
       "    </tr>\n",
       "    <tr>\n",
       "      <th>1118124</th>\n",
       "      <td>Luncher</td>\n",
       "      <td>com.luncher.app</td>\n",
       "      <td>Productivity</td>\n",
       "      <td>NaN</td>\n",
       "      <td>NaN</td>\n",
       "      <td>10+</td>\n",
       "      <td>10.0</td>\n",
       "      <td>26</td>\n",
       "      <td>True</td>\n",
       "      <td>0.0</td>\n",
       "      <td>...</td>\n",
       "      <td>Imaginnovate</td>\n",
       "      <td>http://www.imaginnovate.com</td>\n",
       "      <td>krishna@imaginnovate.com</td>\n",
       "      <td>NaN</td>\n",
       "      <td>Jan 07, 2020</td>\n",
       "      <td>Everyone</td>\n",
       "      <td>http://www.imaginnovate.com</td>\n",
       "      <td>False</td>\n",
       "      <td>False</td>\n",
       "      <td>False</td>\n",
       "    </tr>\n",
       "    <tr>\n",
       "      <th>1118128</th>\n",
       "      <td>Asset Management</td>\n",
       "      <td>com.fieldenable.assetmanagement</td>\n",
       "      <td>Business</td>\n",
       "      <td>NaN</td>\n",
       "      <td>NaN</td>\n",
       "      <td>100+</td>\n",
       "      <td>100.0</td>\n",
       "      <td>190</td>\n",
       "      <td>True</td>\n",
       "      <td>0.0</td>\n",
       "      <td>...</td>\n",
       "      <td>Imaginnovate</td>\n",
       "      <td>http://www.imaginnovate.com</td>\n",
       "      <td>FieldEnable@imaginnovate.com</td>\n",
       "      <td>NaN</td>\n",
       "      <td>Mar 09, 2020</td>\n",
       "      <td>Everyone</td>\n",
       "      <td>http://app.fieldenable.com/privacy</td>\n",
       "      <td>False</td>\n",
       "      <td>False</td>\n",
       "      <td>False</td>\n",
       "    </tr>\n",
       "    <tr>\n",
       "      <th>1118131</th>\n",
       "      <td>FleetEnable</td>\n",
       "      <td>com.fleetenable.app</td>\n",
       "      <td>Productivity</td>\n",
       "      <td>NaN</td>\n",
       "      <td>NaN</td>\n",
       "      <td>10+</td>\n",
       "      <td>10.0</td>\n",
       "      <td>10</td>\n",
       "      <td>True</td>\n",
       "      <td>0.0</td>\n",
       "      <td>...</td>\n",
       "      <td>Imaginnovate</td>\n",
       "      <td>http://fleetenable.com/</td>\n",
       "      <td>krishna@imaginnovate.com</td>\n",
       "      <td>NaN</td>\n",
       "      <td>Jun 30, 2020</td>\n",
       "      <td>Everyone</td>\n",
       "      <td>http://fleetenable.com/</td>\n",
       "      <td>False</td>\n",
       "      <td>False</td>\n",
       "      <td>False</td>\n",
       "    </tr>\n",
       "  </tbody>\n",
       "</table>\n",
       "<p>1118136 rows × 23 columns</p>\n",
       "</div>"
      ],
      "text/plain": [
       "                                 App Name  \\\n",
       "1027334                           Voermol   \n",
       "36075                         Media Event   \n",
       "1009483                    Farza Al Yemen   \n",
       "348566    Strawberry Clock Live Wallpaper   \n",
       "940115     Gofgue Rajasthan GK All in One   \n",
       "...                                   ...   \n",
       "1117721                   UHD IPTV Player   \n",
       "1117914  Women Workout : SexyButt 30 Days   \n",
       "1118124                           Luncher   \n",
       "1118128                  Asset Management   \n",
       "1118131                       FleetEnable   \n",
       "\n",
       "                                       App Id                 Category  \\\n",
       "1027334              com.mountainhops.voermol        Books & Reference   \n",
       "36075             se.wip.volvocars.mediaevent         News & Magazines   \n",
       "1009483                        com.kood.farza           Travel & Local   \n",
       "348566   colorshotstudio.apps.strawberryclock          Personalization   \n",
       "940115         com.gofgue.rajasthangkallinone                Education   \n",
       "...                                       ...                      ...   \n",
       "1117721            com.iptvservice.iptvplayer  Video Players & Editors   \n",
       "1117914  fitness.workout.Women.fitnessworkout         Health & Fitness   \n",
       "1118124                       com.luncher.app             Productivity   \n",
       "1118128       com.fieldenable.assetmanagement                 Business   \n",
       "1118131                   com.fleetenable.app             Productivity   \n",
       "\n",
       "         Rating  Rating Count Installs  Minimum Installs  Maximum Installs  \\\n",
       "1027334     5.0          15.0   5,000+            5000.0              5390   \n",
       "36075       5.0           8.0   1,000+            1000.0              4674   \n",
       "1009483     5.0           7.0     100+             100.0               432   \n",
       "348566      5.0           5.0     100+             100.0               233   \n",
       "940115      5.0           5.0      50+              50.0                90   \n",
       "...         ...           ...      ...               ...               ...   \n",
       "1117721     NaN           NaN   5,000+            5000.0              9300   \n",
       "1117914     NaN           NaN       1+               1.0                 2   \n",
       "1118124     NaN           NaN      10+              10.0                26   \n",
       "1118128     NaN           NaN     100+             100.0               190   \n",
       "1118131     NaN           NaN      10+              10.0                10   \n",
       "\n",
       "         Free  Price  ...            Developer Id  \\\n",
       "1027334  True    0.0  ...  Mountain Hops Software   \n",
       "36075    True    0.0  ...              Volvo Cars   \n",
       "1009483  True    0.0  ...         Advance Fawasel   \n",
       "348566   True    0.0  ...       Color Shot Studio   \n",
       "940115   True    0.0  ...      gofgue e-solutions   \n",
       "...       ...    ...  ...                     ...   \n",
       "1117721  True    0.0  ...                 UHDSoft   \n",
       "1117914  True    0.0  ...                CartaDev   \n",
       "1118124  True    0.0  ...            Imaginnovate   \n",
       "1118128  True    0.0  ...            Imaginnovate   \n",
       "1118131  True    0.0  ...            Imaginnovate   \n",
       "\n",
       "                              Developer Website               Developer Email  \\\n",
       "1027334                    http://voermol.co.za     wessel@mountainhops.co.za   \n",
       "36075                  http://www.volvocars.com        swedencr@volvocars.com   \n",
       "1009483                 http://hfreelancer.com/         asklawyer24@gmail.com   \n",
       "348566   https://colorshotstudios.blogspot.com/  colorshotstudio369@gmail.com   \n",
       "940115                                      NaN              gofgue@gmail.com   \n",
       "...                                         ...                           ...   \n",
       "1117721                                     NaN         uhdsoftinfo@gmail.com   \n",
       "1117914                                     NaN           awaliking@gmail.com   \n",
       "1118124             http://www.imaginnovate.com      krishna@imaginnovate.com   \n",
       "1118128             http://www.imaginnovate.com  FieldEnable@imaginnovate.com   \n",
       "1118131                 http://fleetenable.com/      krishna@imaginnovate.com   \n",
       "\n",
       "             Released  Last Updated Content Rating  \\\n",
       "1027334   Jul 9, 2018  Sep 17, 2020       Everyone   \n",
       "36075    Sep 13, 2017  Jan 09, 2018       Everyone   \n",
       "1009483  Feb 26, 2020  Mar 01, 2020       Everyone   \n",
       "348566    Jul 4, 2019  Jul 04, 2019       Everyone   \n",
       "940115   Jan 30, 2020  Jan 31, 2020       Everyone   \n",
       "...               ...           ...            ...   \n",
       "1117721           NaN  Nov 17, 2020       Everyone   \n",
       "1117914           NaN  Oct 09, 2020       Everyone   \n",
       "1118124           NaN  Jan 07, 2020       Everyone   \n",
       "1118128           NaN  Mar 09, 2020       Everyone   \n",
       "1118131           NaN  Jun 30, 2020       Everyone   \n",
       "\n",
       "                                            Privacy Policy Ad Supported  \\\n",
       "1027334  http://voermol.co.za.dedi406.flk1.host-h.net/e...        False   \n",
       "36075         http://www.volvocars.com/intl/footer/privacy        False   \n",
       "1009483                            http://hfreelancer.com/        False   \n",
       "348566   https://colorshotstudios.blogspot.com/2019/07/...         True   \n",
       "940115                                                 NaN         True   \n",
       "...                                                    ...          ...   \n",
       "1117721  https://teletype.in/@uhdiptvplayer/uhdtvplayer...         True   \n",
       "1117914  https://quickappninja.com/game-privacy-policy....         True   \n",
       "1118124                        http://www.imaginnovate.com        False   \n",
       "1118128                 http://app.fieldenable.com/privacy        False   \n",
       "1118131                            http://fleetenable.com/        False   \n",
       "\n",
       "        In App Purchases Editors Choice  \n",
       "1027334            False          False  \n",
       "36075              False          False  \n",
       "1009483            False          False  \n",
       "348566             False          False  \n",
       "940115             False          False  \n",
       "...                  ...            ...  \n",
       "1117721             True          False  \n",
       "1117914            False          False  \n",
       "1118124            False          False  \n",
       "1118128            False          False  \n",
       "1118131            False          False  \n",
       "\n",
       "[1118136 rows x 23 columns]"
      ]
     },
     "execution_count": 10,
     "metadata": {},
     "output_type": "execute_result"
    }
   ],
   "source": [
    "data1.sort_values(by='Rating', ascending=False)"
   ]
  },
  {
   "cell_type": "code",
   "execution_count": 11,
   "metadata": {},
   "outputs": [
    {
     "data": {
      "text/plain": [
       "<bound method Series.mean of 0          3.6\n",
       "1          4.3\n",
       "2          4.2\n",
       "3          4.2\n",
       "4          4.2\n",
       "          ... \n",
       "1118131    NaN\n",
       "1118132    0.0\n",
       "1118133    0.0\n",
       "1118134    0.0\n",
       "1118135    4.6\n",
       "Name: Rating, Length: 1118136, dtype: float64>"
      ]
     },
     "execution_count": 11,
     "metadata": {},
     "output_type": "execute_result"
    }
   ],
   "source": [
    "data1['Rating'].mean"
   ]
  },
  {
   "cell_type": "code",
   "execution_count": 12,
   "metadata": {},
   "outputs": [
    {
     "data": {
      "text/plain": [
       "App Name                  1\n",
       "App Id                    0\n",
       "Category                  3\n",
       "Rating                 6850\n",
       "Rating Count           6850\n",
       "Installs                161\n",
       "Minimum Installs        161\n",
       "Maximum Installs          0\n",
       "Free                      0\n",
       "Price                     0\n",
       "Currency                161\n",
       "Size                      0\n",
       "Minimum Android        2013\n",
       "Developer Id              2\n",
       "Developer Website    414366\n",
       "Developer Email          22\n",
       "Released               7730\n",
       "Last Updated              0\n",
       "Content Rating            0\n",
       "Privacy Policy       153524\n",
       "Ad Supported              0\n",
       "In App Purchases          0\n",
       "Editors Choice            0\n",
       "dtype: int64"
      ]
     },
     "execution_count": 12,
     "metadata": {},
     "output_type": "execute_result"
    }
   ],
   "source": [
    "data1.isnull().sum()"
   ]
  },
  {
   "cell_type": "code",
   "execution_count": 13,
   "metadata": {},
   "outputs": [
    {
     "name": "stdout",
     "output_type": "stream",
     "text": [
      "0\n"
     ]
    }
   ],
   "source": [
    "duplicate=data1.duplicated()\n",
    "print(duplicate.sum())"
   ]
  },
  {
   "cell_type": "markdown",
   "metadata": {},
   "source": [
    "<b><font size = 5>Grouping of Dataframe</font></b>"
   ]
  },
  {
   "cell_type": "code",
   "execution_count": 14,
   "metadata": {},
   "outputs": [
    {
     "data": {
      "text/html": [
       "<div>\n",
       "<style scoped>\n",
       "    .dataframe tbody tr th:only-of-type {\n",
       "        vertical-align: middle;\n",
       "    }\n",
       "\n",
       "    .dataframe tbody tr th {\n",
       "        vertical-align: top;\n",
       "    }\n",
       "\n",
       "    .dataframe thead tr th {\n",
       "        text-align: left;\n",
       "    }\n",
       "\n",
       "    .dataframe thead tr:last-of-type th {\n",
       "        text-align: right;\n",
       "    }\n",
       "</style>\n",
       "<table border=\"1\" class=\"dataframe\">\n",
       "  <thead>\n",
       "    <tr>\n",
       "      <th></th>\n",
       "      <th colspan=\"4\" halign=\"left\">Category</th>\n",
       "    </tr>\n",
       "    <tr>\n",
       "      <th></th>\n",
       "      <th>count</th>\n",
       "      <th>unique</th>\n",
       "      <th>top</th>\n",
       "      <th>freq</th>\n",
       "    </tr>\n",
       "    <tr>\n",
       "      <th>Free</th>\n",
       "      <th></th>\n",
       "      <th></th>\n",
       "      <th></th>\n",
       "      <th></th>\n",
       "    </tr>\n",
       "  </thead>\n",
       "  <tbody>\n",
       "    <tr>\n",
       "      <th>False</th>\n",
       "      <td>46803</td>\n",
       "      <td>48</td>\n",
       "      <td>Personalization</td>\n",
       "      <td>7325</td>\n",
       "    </tr>\n",
       "    <tr>\n",
       "      <th>True</th>\n",
       "      <td>1071330</td>\n",
       "      <td>48</td>\n",
       "      <td>Education</td>\n",
       "      <td>108332</td>\n",
       "    </tr>\n",
       "  </tbody>\n",
       "</table>\n",
       "</div>"
      ],
      "text/plain": [
       "      Category                                \n",
       "         count unique              top    freq\n",
       "Free                                          \n",
       "False    46803     48  Personalization    7325\n",
       "True   1071330     48        Education  108332"
      ]
     },
     "execution_count": 14,
     "metadata": {},
     "output_type": "execute_result"
    }
   ],
   "source": [
    "columns_to_show = ['Category']\n",
    "\n",
    "data1.groupby(['Free'])[columns_to_show].describe(percentiles=[])"
   ]
  },
  {
   "cell_type": "code",
   "execution_count": 15,
   "metadata": {},
   "outputs": [
    {
     "data": {
      "text/html": [
       "<div>\n",
       "<style scoped>\n",
       "    .dataframe tbody tr th:only-of-type {\n",
       "        vertical-align: middle;\n",
       "    }\n",
       "\n",
       "    .dataframe tbody tr th {\n",
       "        vertical-align: top;\n",
       "    }\n",
       "\n",
       "    .dataframe thead th {\n",
       "        text-align: right;\n",
       "    }\n",
       "</style>\n",
       "<table border=\"1\" class=\"dataframe\">\n",
       "  <thead>\n",
       "    <tr style=\"text-align: right;\">\n",
       "      <th>Content Rating</th>\n",
       "      <th>Adults only 18+</th>\n",
       "      <th>Everyone</th>\n",
       "      <th>Everyone 10+</th>\n",
       "      <th>Mature 17+</th>\n",
       "      <th>Teen</th>\n",
       "      <th>Unrated</th>\n",
       "    </tr>\n",
       "    <tr>\n",
       "      <th>Ad Supported</th>\n",
       "      <th></th>\n",
       "      <th></th>\n",
       "      <th></th>\n",
       "      <th></th>\n",
       "      <th></th>\n",
       "      <th></th>\n",
       "    </tr>\n",
       "  </thead>\n",
       "  <tbody>\n",
       "    <tr>\n",
       "      <th>False</th>\n",
       "      <td>12</td>\n",
       "      <td>363402</td>\n",
       "      <td>3950</td>\n",
       "      <td>5921</td>\n",
       "      <td>19021</td>\n",
       "      <td>14</td>\n",
       "    </tr>\n",
       "    <tr>\n",
       "      <th>True</th>\n",
       "      <td>42</td>\n",
       "      <td>604844</td>\n",
       "      <td>14080</td>\n",
       "      <td>26044</td>\n",
       "      <td>80754</td>\n",
       "      <td>52</td>\n",
       "    </tr>\n",
       "  </tbody>\n",
       "</table>\n",
       "</div>"
      ],
      "text/plain": [
       "Content Rating  Adults only 18+  Everyone  Everyone 10+  Mature 17+   Teen  \\\n",
       "Ad Supported                                                                 \n",
       "False                        12    363402          3950        5921  19021   \n",
       "True                         42    604844         14080       26044  80754   \n",
       "\n",
       "Content Rating  Unrated  \n",
       "Ad Supported             \n",
       "False                14  \n",
       "True                 52  "
      ]
     },
     "execution_count": 15,
     "metadata": {},
     "output_type": "execute_result"
    }
   ],
   "source": [
    "an=pd.crosstab(data1['Ad Supported'], data1['Content Rating'])\n",
    "an"
   ]
  },
  {
   "cell_type": "markdown",
   "metadata": {},
   "source": [
    "<b><font size = 6>Data Visulizations</font></b>"
   ]
  },
  {
   "cell_type": "code",
   "execution_count": 16,
   "metadata": {},
   "outputs": [
    {
     "data": {
      "text/plain": [
       "Text(0, 0.5, 'Count')"
      ]
     },
     "execution_count": 16,
     "metadata": {},
     "output_type": "execute_result"
    },
    {
     "data": {
      "image/png": "[encoded data removed]",
      "text/plain": [
       "<Figure size 432x288 with 1 Axes>"
      ]
     },
     "metadata": {
      "needs_background": "light"
     },
     "output_type": "display_data"
    }
   ],
   "source": [
    "sns.histplot(an)\n",
    "plt.xlabel(\"Ad Supporting Content\")\n",
    "plt.ylabel(\"Count\")\n"
   ]
  },
  {
   "cell_type": "markdown",
   "metadata": {},
   "source": [
    "<b><font size = 5>Outliers</font></b>"
   ]
  },
  {
   "cell_type": "code",
   "execution_count": 17,
   "metadata": {},
   "outputs": [],
   "source": [
    "data1[\"Free\"] = data1[\"Free\"].astype(int)"
   ]
  },
  {
   "cell_type": "code",
   "execution_count": 18,
   "metadata": {},
   "outputs": [],
   "source": [
    "data1[\"Free\"].replace(0, 'Paid', inplace=True)\n",
    "data1[\"Free\"].replace(1, 'Free', inplace=True)"
   ]
  },
  {
   "cell_type": "code",
   "execution_count": 19,
   "metadata": {},
   "outputs": [
    {
     "data": {
      "text/plain": [
       "Text(0.5, 1.0, 'App Purchase Status')"
      ]
     },
     "execution_count": 19,
     "metadata": {},
     "output_type": "execute_result"
    },
    {
     "data": {
      "image/png": "[encoded data removed]",
      "text/plain": [
       "<Figure size 432x288 with 1 Axes>"
      ]
     },
     "metadata": {
      "needs_background": "light"
     },
     "output_type": "display_data"
    }
   ],
   "source": [
    "sns.histplot(data1['Free'])\n",
    "plt.xlabel(\"Free\")\n",
    "plt.ylabel(\"Count\")\n",
    "plt.title(\"App Purchase Status\")"
   ]
  },
  {
   "cell_type": "code",
   "execution_count": 20,
   "metadata": {},
   "outputs": [
    {
     "name": "stderr",
     "output_type": "stream",
     "text": [
      "<__array_function__ internals>:5: RuntimeWarning: Converting input from bool to <class 'numpy.uint8'> for compatibility.\n",
      "<__array_function__ internals>:5: RuntimeWarning: Converting input from bool to <class 'numpy.uint8'> for compatibility.\n"
     ]
    },
    {
     "data": {
      "image/png": "[encoded data removed]",
      "text/plain": [
       "<Figure size 432x288 with 1 Axes>"
      ]
     },
     "metadata": {
      "needs_background": "light"
     },
     "output_type": "display_data"
    }
   ],
   "source": [
    "sns.histplot(data1['Editors Choice'])\n",
    "plt.xlabel(\"Editors Choice\")\n",
    "plt.ylabel(\"Count\")\n",
    "plt.title(\" Status of Editors Choice of application\")\n",
    "warnings.filterwarnings('ignore')"
   ]
  },
  {
   "cell_type": "markdown",
   "metadata": {},
   "source": [
    "<b><font size = 5>One Variable Plots</font></b>"
   ]
  },
  {
   "cell_type": "code",
   "execution_count": 21,
   "metadata": {},
   "outputs": [
    {
     "data": {
      "text/plain": [
       "Text(0.5, 1.0, 'App Ratings')"
      ]
     },
     "execution_count": 21,
     "metadata": {},
     "output_type": "execute_result"
    },
    {
     "data": {
      "image/png": "[encoded data removed]",
      "text/plain": [
       "<Figure size 432x288 with 1 Axes>"
      ]
     },
     "metadata": {
      "needs_background": "light"
     },
     "output_type": "display_data"
    }
   ],
   "source": [
    "sns.histplot(data1['Rating'])\n",
    "plt.xlabel(\"Rating\")\n",
    "plt.ylabel(\"Count\")\n",
    "plt.title(\"App Ratings\")"
   ]
  },
  {
   "cell_type": "code",
   "execution_count": 22,
   "metadata": {},
   "outputs": [
    {
     "data": {
      "text/plain": [
       "Text(0.5, 1.0, 'Rating Status')"
      ]
     },
     "execution_count": 22,
     "metadata": {},
     "output_type": "execute_result"
    },
    {
     "data": {
      "image/png": "[encoded data removed]",
      "text/plain": [
       "<Figure size 432x288 with 1 Axes>"
      ]
     },
     "metadata": {
      "needs_background": "light"
     },
     "output_type": "display_data"
    }
   ],
   "source": [
    "sns.violinplot(x = \"Rating\", data=data1)\n",
    "plt.xlabel(\"Rating\")\n",
    "plt.ylabel(\"Count\")\n",
    "plt.title(\"Rating Status\")"
   ]
  },
  {
   "cell_type": "code",
   "execution_count": 23,
   "metadata": {},
   "outputs": [
    {
     "data": {
      "image/png": "[encoded data removed]",
      "text/plain": [
       "<Figure size 432x288 with 1 Axes>"
      ]
     },
     "metadata": {
      "needs_background": "light"
     },
     "output_type": "display_data"
    }
   ],
   "source": [
    "sns.countplot(data1['Content Rating'])\n",
    "plt.xticks(rotation=80)\n",
    "plt.title(\" Count of Applications VS content Rating\")\n",
    "warnings.filterwarnings('ignore')"
   ]
  },
  {
   "cell_type": "markdown",
   "metadata": {},
   "source": [
    "<b><font size = 6>Visulizations Showing Relationship Between Variables</font></b>"
   ]
  },
  {
   "cell_type": "code",
   "execution_count": 24,
   "metadata": {},
   "outputs": [
    {
     "data": {
      "image/png": "[encoded data removed]",
      "text/plain": [
       "<Figure size 1080x720 with 1 Axes>"
      ]
     },
     "metadata": {
      "needs_background": "light"
     },
     "output_type": "display_data"
    }
   ],
   "source": [
    "plt.figure(figsize=(15,10))\n",
    "sns.barplot(x=data1['Category'], y=data1['Rating'])\n",
    "plt.xticks(rotation=80)\n",
    "plt.xlabel(\"Category\")\n",
    "plt.ylabel(\"Rating\")\n",
    "plt.title(\"Ratings depicted by categories\")\n",
    "plt.yticks(np.arange(5), ['1','2','3','4','5'])\n",
    "plt.show()"
   ]
  },
  {
   "cell_type": "code",
   "execution_count": 25,
   "metadata": {},
   "outputs": [
    {
     "data": {
      "image/png": "[encoded data removed]",
      "text/plain": [
       "<Figure size 432x288 with 1 Axes>"
      ]
     },
     "metadata": {
      "needs_background": "light"
     },
     "output_type": "display_data"
    }
   ],
   "source": [
    "sns.countplot(data1['Category'])\n",
    "plt.xticks(rotation=80)\n",
    "plt.title(\" Count of Applications VS content Rating\")\n",
    "warnings.filterwarnings('ignore')"
   ]
  },
  {
   "cell_type": "code",
   "execution_count": 26,
   "metadata": {},
   "outputs": [
    {
     "data": {
      "image/png": "[encoded data removed]",
      "text/plain": [
       "<Figure size 1080x720 with 1 Axes>"
      ]
     },
     "metadata": {
      "needs_background": "light"
     },
     "output_type": "display_data"
    }
   ],
   "source": [
    "plt.figure(figsize=(15,10))\n",
    "sns.barplot(x=data1['Content Rating'], y=data1['Rating'])\n",
    "plt.xticks(rotation=80)\n",
    "plt.xlabel(\"Content Rating\")\n",
    "plt.ylabel(\"Rating\")\n",
    "plt.title(\"Ratings depicted by categories\")\n",
    "plt.yticks(np.arange(5), ['1','2','3','4','5'])\n",
    "plt.show()"
   ]
  },
  {
   "cell_type": "markdown",
   "metadata": {},
   "source": [
    "<b><font size = 6>DATA CLEANING</font></b>"
   ]
  },
  {
   "cell_type": "markdown",
   "metadata": {},
   "source": [
    "<font size = 3> * Converting all columns to snake case to further clean the data.</font>"
   ]
  },
  {
   "cell_type": "code",
   "execution_count": 27,
   "metadata": {},
   "outputs": [
    {
     "data": {
      "text/plain": [
       "Index(['app_name', 'app_id', 'category', 'rating', 'rating_count', 'installs',\n",
       "       'minimum_installs', 'maximum_installs', 'free', 'price', 'currency',\n",
       "       'size', 'minimum_android', 'developer_id', 'developer_website',\n",
       "       'developer_email', 'released', 'last_updated', 'content_rating',\n",
       "       'privacy_policy', 'ad_supported', 'in_app_purchases', 'editors_choice'],\n",
       "      dtype='object')"
      ]
     },
     "execution_count": 27,
     "metadata": {},
     "output_type": "execute_result"
    }
   ],
   "source": [
    "data1.rename(lambda x: x.lower().strip().replace(' ', '_'),\n",
    "axis='columns', inplace=True)\n",
    "data1.columns"
   ]
  },
  {
   "cell_type": "markdown",
   "metadata": {},
   "source": [
    "<font size = 3> * Here we’ve dropped the unnecessary columns.</font>"
   ]
  },
  {
   "cell_type": "code",
   "execution_count": 28,
   "metadata": {},
   "outputs": [],
   "source": [
    "to_drop = ['app_id', 'minimum_android',\n",
    "'developer_id', 'developer_website', 'developer_email', 'privacy_policy']\n"
   ]
  },
  {
   "cell_type": "code",
   "execution_count": 29,
   "metadata": {
    "scrolled": true
   },
   "outputs": [
    {
     "name": "stdout",
     "output_type": "stream",
     "text": [
      "<class 'pandas.core.frame.DataFrame'>\n",
      "RangeIndex: 1118136 entries, 0 to 1118135\n",
      "Data columns (total 17 columns):\n",
      " #   Column            Non-Null Count    Dtype  \n",
      "---  ------            --------------    -----  \n",
      " 0   app_name          1118135 non-null  object \n",
      " 1   category          1118133 non-null  object \n",
      " 2   rating            1111286 non-null  float64\n",
      " 3   rating_count      1111286 non-null  float64\n",
      " 4   installs          1117975 non-null  object \n",
      " 5   minimum_installs  1117975 non-null  float64\n",
      " 6   maximum_installs  1118136 non-null  int64  \n",
      " 7   free              1118136 non-null  object \n",
      " 8   price             1118136 non-null  float64\n",
      " 9   currency          1117975 non-null  object \n",
      " 10  size              1118136 non-null  object \n",
      " 11  released          1110406 non-null  object \n",
      " 12  last_updated      1118136 non-null  object \n",
      " 13  content_rating    1118136 non-null  object \n",
      " 14  ad_supported      1118136 non-null  bool   \n",
      " 15  in_app_purchases  1118136 non-null  bool   \n",
      " 16  editors_choice    1118136 non-null  bool   \n",
      "dtypes: bool(3), float64(4), int64(1), object(9)\n",
      "memory usage: 122.6+ MB\n"
     ]
    }
   ],
   "source": [
    "data1.drop(to_drop, axis='columns', inplace=True)\n",
    "data1.info()\n"
   ]
  },
  {
   "cell_type": "markdown",
   "metadata": {},
   "source": [
    "<b><font size = 4>Calculating The Data And Merging The Category Column</font></b>"
   ]
  },
  {
   "cell_type": "code",
   "execution_count": 30,
   "metadata": {},
   "outputs": [
    {
     "data": {
      "text/plain": [
       "Education                  115242\n",
       "Music & Audio              104541\n",
       "Entertainment               82079\n",
       "Books & Reference           78969\n",
       "Personalization             73538\n",
       "Tools                       68953\n",
       "Lifestyle                   54586\n",
       "Business                    42210\n",
       "Health & Fitness            31532\n",
       "Productivity                30450\n",
       "Photography                 28942\n",
       "Travel & Local              25971\n",
       "Puzzle                      24954\n",
       "Finance                     24846\n",
       "Food & Drink                24250\n",
       "Sports                      22094\n",
       "News & Magazines            21553\n",
       "Casual                      20509\n",
       "Shopping                    20440\n",
       "Communication               18391\n",
       "Arcade                      17715\n",
       "Social                      16987\n",
       "Simulation                  15372\n",
       "Action                      12628\n",
       "Medical                     12554\n",
       "Art & Design                12322\n",
       "Educational                 11351\n",
       "Maps & Navigation           10468\n",
       "Adventure                   10124\n",
       "Video Players & Editors      9095\n",
       "Auto & Vehicles              6872\n",
       "Beauty                       6236\n",
       "Racing                       6004\n",
       "Role Playing                 5632\n",
       "House & Home                 5475\n",
       "Trivia                       5470\n",
       "Board                        5261\n",
       "Word                         4677\n",
       "Card                         4674\n",
       "Strategy                     4071\n",
       "Events                       3788\n",
       "Weather                      2958\n",
       "Dating                       2883\n",
       "Casino                       2648\n",
       "Music                        2515\n",
       "Libraries & Demo             2382\n",
       "Comics                       2137\n",
       "Parenting                    1784\n",
       "Name: category, dtype: int64"
      ]
     },
     "execution_count": 30,
     "metadata": {},
     "output_type": "execute_result"
    }
   ],
   "source": [
    "data1['category'].value_counts()"
   ]
  },
  {
   "cell_type": "markdown",
   "metadata": {},
   "source": [
    "<font size = 3>* Since there were two different categories in music and education section hence, we’ve combined the multiple categories into single category.</font>\n"
   ]
  },
  {
   "cell_type": "code",
   "execution_count": 31,
   "metadata": {},
   "outputs": [],
   "source": [
    "data1['category'] = data1['category'].str.replace('Educational', 'Education')\n",
    "data1['category'] = data1['category'].str.replace('Music & Audio', 'Music')"
   ]
  },
  {
   "cell_type": "code",
   "execution_count": 32,
   "metadata": {},
   "outputs": [
    {
     "data": {
      "text/plain": [
       "Education                  126593\n",
       "Music                      107056\n",
       "Entertainment               82079\n",
       "Books & Reference           78969\n",
       "Personalization             73538\n",
       "Tools                       68953\n",
       "Lifestyle                   54586\n",
       "Business                    42210\n",
       "Health & Fitness            31532\n",
       "Productivity                30450\n",
       "Photography                 28942\n",
       "Travel & Local              25971\n",
       "Puzzle                      24954\n",
       "Finance                     24846\n",
       "Food & Drink                24250\n",
       "Sports                      22094\n",
       "News & Magazines            21553\n",
       "Casual                      20509\n",
       "Shopping                    20440\n",
       "Communication               18391\n",
       "Arcade                      17715\n",
       "Social                      16987\n",
       "Simulation                  15372\n",
       "Action                      12628\n",
       "Medical                     12554\n",
       "Art & Design                12322\n",
       "Maps & Navigation           10468\n",
       "Adventure                   10124\n",
       "Video Players & Editors      9095\n",
       "Auto & Vehicles              6872\n",
       "Beauty                       6236\n",
       "Racing                       6004\n",
       "Role Playing                 5632\n",
       "House & Home                 5475\n",
       "Trivia                       5470\n",
       "Board                        5261\n",
       "Word                         4677\n",
       "Card                         4674\n",
       "Strategy                     4071\n",
       "Events                       3788\n",
       "Weather                      2958\n",
       "Dating                       2883\n",
       "Casino                       2648\n",
       "Libraries & Demo             2382\n",
       "Comics                       2137\n",
       "Parenting                    1784\n",
       "Name: category, dtype: int64"
      ]
     },
     "execution_count": 32,
     "metadata": {},
     "output_type": "execute_result"
    }
   ],
   "source": [
    "data1['category'].value_counts()"
   ]
  },
  {
   "cell_type": "markdown",
   "metadata": {},
   "source": [
    "<b><font size = 4>Bifurcating 10 Popular Columns And Creating A New Dataframe</font></b>"
   ]
  },
  {
   "cell_type": "markdown",
   "metadata": {},
   "source": [
    "<font size = 3>* Since our problem statement revolves around categories. Hence, we’ve bifurcated our dataset into a new dataframe having top 10 categories of the original dataframe.</font>\n"
   ]
  },
  {
   "cell_type": "code",
   "execution_count": 33,
   "metadata": {},
   "outputs": [],
   "source": [
    "ten_popular_categories = [\n",
    "'Education', 'Music', 'Entertainment', 'Books & Reference',\n",
    "'Personalization', 'Tools', 'Lifestyle',\n",
    "'Business','Health & Fitness','Productivity'\n",
    "\n",
    "]"
   ]
  },
  {
   "cell_type": "code",
   "execution_count": 34,
   "metadata": {},
   "outputs": [],
   "source": [
    "top = data1[data1['category'].isin(ten_popular_categories)].reset_index(drop=True)\n",
    "assert top['category'].all() in ten_popular_categories"
   ]
  },
  {
   "cell_type": "code",
   "execution_count": 35,
   "metadata": {},
   "outputs": [
    {
     "data": {
      "text/plain": [
       "Education            126593\n",
       "Music                107056\n",
       "Entertainment         82079\n",
       "Books & Reference     78969\n",
       "Personalization       73538\n",
       "Tools                 68953\n",
       "Lifestyle             54586\n",
       "Business              42210\n",
       "Health & Fitness      31532\n",
       "Productivity          30450\n",
       "Name: category, dtype: int64"
      ]
     },
     "execution_count": 35,
     "metadata": {},
     "output_type": "execute_result"
    }
   ],
   "source": [
    "top['category'].value_counts()"
   ]
  },
  {
   "cell_type": "markdown",
   "metadata": {},
   "source": [
    "<b><font size = 4>Changing The Datatypes To Appropriate Datatypes</font></b>"
   ]
  },
  {
   "cell_type": "markdown",
   "metadata": {},
   "source": [
    "<font size = 3>* Since there were two different categories in music and education section hence, we’ve combined the multiple categories into single category.\n",
    "</font>"
   ]
  },
  {
   "cell_type": "code",
   "execution_count": 36,
   "metadata": {},
   "outputs": [],
   "source": [
    "top['released'] = pd.to_datetime(top['released'], errors = 'coerce')\n",
    "top['last_updated'] = pd.to_datetime(top['last_updated'], errors = 'coerce')"
   ]
  },
  {
   "cell_type": "code",
   "execution_count": 37,
   "metadata": {
    "scrolled": true
   },
   "outputs": [
    {
     "name": "stdout",
     "output_type": "stream",
     "text": [
      "<class 'pandas.core.frame.DataFrame'>\n",
      "RangeIndex: 695966 entries, 0 to 695965\n",
      "Data columns (total 17 columns):\n",
      " #   Column            Non-Null Count   Dtype         \n",
      "---  ------            --------------   -----         \n",
      " 0   app_name          695966 non-null  object        \n",
      " 1   category          695966 non-null  object        \n",
      " 2   rating            693185 non-null  float64       \n",
      " 3   rating_count      693185 non-null  float64       \n",
      " 4   installs          695946 non-null  object        \n",
      " 5   minimum_installs  695946 non-null  float64       \n",
      " 6   maximum_installs  695966 non-null  int64         \n",
      " 7   free              695966 non-null  object        \n",
      " 8   price             695966 non-null  float64       \n",
      " 9   currency          695946 non-null  object        \n",
      " 10  size              695966 non-null  object        \n",
      " 11  released          692733 non-null  datetime64[ns]\n",
      " 12  last_updated      695966 non-null  datetime64[ns]\n",
      " 13  content_rating    695966 non-null  object        \n",
      " 14  ad_supported      695966 non-null  bool          \n",
      " 15  in_app_purchases  695966 non-null  bool          \n",
      " 16  editors_choice    695966 non-null  bool          \n",
      "dtypes: bool(3), datetime64[ns](2), float64(4), int64(1), object(7)\n",
      "memory usage: 76.3+ MB\n"
     ]
    }
   ],
   "source": [
    "top.info()"
   ]
  },
  {
   "cell_type": "markdown",
   "metadata": {},
   "source": [
    "<b><font size = 4>Removing The Null Values From The Dataframe</font></b>"
   ]
  },
  {
   "cell_type": "markdown",
   "metadata": {},
   "source": [
    "<font size = 3>\n",
    "* Here, we’ve checked that whether our dataset have any null values.  <br>                                                            * Later we’ve dropped the null values from our dataframe.      \n",
    "</font>"
   ]
  },
  {
   "cell_type": "code",
   "execution_count": 38,
   "metadata": {},
   "outputs": [
    {
     "data": {
      "text/plain": [
       "app_name               0\n",
       "category               0\n",
       "rating              2781\n",
       "rating_count        2781\n",
       "installs              20\n",
       "minimum_installs      20\n",
       "maximum_installs       0\n",
       "free                   0\n",
       "price                  0\n",
       "currency              20\n",
       "size                   0\n",
       "released            3233\n",
       "last_updated           0\n",
       "content_rating         0\n",
       "ad_supported           0\n",
       "in_app_purchases       0\n",
       "editors_choice         0\n",
       "dtype: int64"
      ]
     },
     "execution_count": 38,
     "metadata": {},
     "output_type": "execute_result"
    }
   ],
   "source": [
    "top.isnull().sum()"
   ]
  },
  {
   "cell_type": "code",
   "execution_count": 39,
   "metadata": {},
   "outputs": [
    {
     "data": {
      "text/plain": [
       "app_name            0\n",
       "category            0\n",
       "rating              0\n",
       "rating_count        0\n",
       "installs            0\n",
       "minimum_installs    0\n",
       "maximum_installs    0\n",
       "free                0\n",
       "price               0\n",
       "currency            0\n",
       "size                0\n",
       "released            0\n",
       "last_updated        0\n",
       "content_rating      0\n",
       "ad_supported        0\n",
       "in_app_purchases    0\n",
       "editors_choice      0\n",
       "dtype: int64"
      ]
     },
     "execution_count": 39,
     "metadata": {},
     "output_type": "execute_result"
    }
   ],
   "source": [
    "top.dropna(inplace=True)\n",
    "top.isnull().sum()\n"
   ]
  },
  {
   "cell_type": "markdown",
   "metadata": {},
   "source": [
    "<b><font size = 4>Cleaning The Data</font></b>"
   ]
  },
  {
   "cell_type": "markdown",
   "metadata": {},
   "source": [
    "<font size = 3>Below ,we have used the Replace Function to transform and clean our data furthermore.</font>"
   ]
  },
  {
   "cell_type": "code",
   "execution_count": 40,
   "metadata": {},
   "outputs": [],
   "source": [
    "top.installs=top.installs.str.replace('+','')\n",
    "top.installs=top.installs.str.replace(',','')\n",
    "\n",
    "top[\"installs\"] = top[\"installs\"].astype(float)"
   ]
  },
  {
   "cell_type": "code",
   "execution_count": 41,
   "metadata": {},
   "outputs": [],
   "source": [
    "top['size'].replace('Varies with device', 1, inplace=True)\n",
    "top['content_rating'].replace('Unrated', 1, inplace=True)"
   ]
  },
  {
   "cell_type": "code",
   "execution_count": 42,
   "metadata": {},
   "outputs": [],
   "source": [
    "top['free'].replace(0, 'Paid', inplace=True)\n",
    "top['free'].replace(1, 'Free', inplace=True)\n"
   ]
  },
  {
   "cell_type": "code",
   "execution_count": 43,
   "metadata": {
    "scrolled": true
   },
   "outputs": [
    {
     "data": {
      "text/html": [
       "<div>\n",
       "<style scoped>\n",
       "    .dataframe tbody tr th:only-of-type {\n",
       "        vertical-align: middle;\n",
       "    }\n",
       "\n",
       "    .dataframe tbody tr th {\n",
       "        vertical-align: top;\n",
       "    }\n",
       "\n",
       "    .dataframe thead th {\n",
       "        text-align: right;\n",
       "    }\n",
       "</style>\n",
       "<table border=\"1\" class=\"dataframe\">\n",
       "  <thead>\n",
       "    <tr style=\"text-align: right;\">\n",
       "      <th></th>\n",
       "      <th>app_name</th>\n",
       "      <th>category</th>\n",
       "      <th>rating</th>\n",
       "      <th>rating_count</th>\n",
       "      <th>installs</th>\n",
       "      <th>minimum_installs</th>\n",
       "      <th>maximum_installs</th>\n",
       "      <th>free</th>\n",
       "      <th>price</th>\n",
       "      <th>currency</th>\n",
       "      <th>size</th>\n",
       "      <th>released</th>\n",
       "      <th>last_updated</th>\n",
       "      <th>content_rating</th>\n",
       "      <th>ad_supported</th>\n",
       "      <th>in_app_purchases</th>\n",
       "      <th>editors_choice</th>\n",
       "    </tr>\n",
       "  </thead>\n",
       "  <tbody>\n",
       "    <tr>\n",
       "      <th>0</th>\n",
       "      <td>WPSApp</td>\n",
       "      <td>Tools</td>\n",
       "      <td>4.2</td>\n",
       "      <td>488639.0</td>\n",
       "      <td>50000000.0</td>\n",
       "      <td>50000000.0</td>\n",
       "      <td>79304739</td>\n",
       "      <td>Free</td>\n",
       "      <td>0.0</td>\n",
       "      <td>USD</td>\n",
       "      <td>5.8M</td>\n",
       "      <td>2016-03-07</td>\n",
       "      <td>2020-10-21</td>\n",
       "      <td>Everyone</td>\n",
       "      <td>True</td>\n",
       "      <td>False</td>\n",
       "      <td>False</td>\n",
       "    </tr>\n",
       "    <tr>\n",
       "      <th>1</th>\n",
       "      <td>OfficeSuite - Office, PDF, Word, Excel, PowerP...</td>\n",
       "      <td>Business</td>\n",
       "      <td>4.2</td>\n",
       "      <td>1224420.0</td>\n",
       "      <td>100000000.0</td>\n",
       "      <td>100000000.0</td>\n",
       "      <td>163660067</td>\n",
       "      <td>Free</td>\n",
       "      <td>0.0</td>\n",
       "      <td>USD</td>\n",
       "      <td>59M</td>\n",
       "      <td>2011-12-22</td>\n",
       "      <td>2020-11-23</td>\n",
       "      <td>Everyone</td>\n",
       "      <td>True</td>\n",
       "      <td>True</td>\n",
       "      <td>False</td>\n",
       "    </tr>\n",
       "    <tr>\n",
       "      <th>2</th>\n",
       "      <td>Loud Player Free</td>\n",
       "      <td>Music</td>\n",
       "      <td>4.2</td>\n",
       "      <td>665.0</td>\n",
       "      <td>50000.0</td>\n",
       "      <td>50000.0</td>\n",
       "      <td>73463</td>\n",
       "      <td>Free</td>\n",
       "      <td>0.0</td>\n",
       "      <td>USD</td>\n",
       "      <td>29M</td>\n",
       "      <td>2016-09-24</td>\n",
       "      <td>2020-11-22</td>\n",
       "      <td>Everyone</td>\n",
       "      <td>False</td>\n",
       "      <td>False</td>\n",
       "      <td>False</td>\n",
       "    </tr>\n",
       "    <tr>\n",
       "      <th>3</th>\n",
       "      <td>Jobonji: hire local pros handyman for odd jobs...</td>\n",
       "      <td>Lifestyle</td>\n",
       "      <td>4.4</td>\n",
       "      <td>3346.0</td>\n",
       "      <td>100000.0</td>\n",
       "      <td>100000.0</td>\n",
       "      <td>224897</td>\n",
       "      <td>Free</td>\n",
       "      <td>0.0</td>\n",
       "      <td>USD</td>\n",
       "      <td>9.4M</td>\n",
       "      <td>2018-01-10</td>\n",
       "      <td>2019-09-30</td>\n",
       "      <td>Everyone</td>\n",
       "      <td>False</td>\n",
       "      <td>True</td>\n",
       "      <td>False</td>\n",
       "    </tr>\n",
       "    <tr>\n",
       "      <th>4</th>\n",
       "      <td>Little Panda’s Dream Town</td>\n",
       "      <td>Education</td>\n",
       "      <td>4.0</td>\n",
       "      <td>44700.0</td>\n",
       "      <td>10000000.0</td>\n",
       "      <td>10000000.0</td>\n",
       "      <td>29969311</td>\n",
       "      <td>Free</td>\n",
       "      <td>0.0</td>\n",
       "      <td>USD</td>\n",
       "      <td>90M</td>\n",
       "      <td>2018-08-16</td>\n",
       "      <td>2020-09-29</td>\n",
       "      <td>Everyone</td>\n",
       "      <td>True</td>\n",
       "      <td>True</td>\n",
       "      <td>False</td>\n",
       "    </tr>\n",
       "    <tr>\n",
       "      <th>5</th>\n",
       "      <td>Baby Panda: Dental Care</td>\n",
       "      <td>Education</td>\n",
       "      <td>4.1</td>\n",
       "      <td>10990.0</td>\n",
       "      <td>10000000.0</td>\n",
       "      <td>10000000.0</td>\n",
       "      <td>12520805</td>\n",
       "      <td>Free</td>\n",
       "      <td>0.0</td>\n",
       "      <td>USD</td>\n",
       "      <td>87M</td>\n",
       "      <td>2020-04-27</td>\n",
       "      <td>2020-09-29</td>\n",
       "      <td>Everyone</td>\n",
       "      <td>True</td>\n",
       "      <td>True</td>\n",
       "      <td>False</td>\n",
       "    </tr>\n",
       "    <tr>\n",
       "      <th>6</th>\n",
       "      <td>Excel Reader</td>\n",
       "      <td>Tools</td>\n",
       "      <td>3.3</td>\n",
       "      <td>1141.0</td>\n",
       "      <td>100000.0</td>\n",
       "      <td>100000.0</td>\n",
       "      <td>193274</td>\n",
       "      <td>Free</td>\n",
       "      <td>0.0</td>\n",
       "      <td>USD</td>\n",
       "      <td>3.3M</td>\n",
       "      <td>2020-01-13</td>\n",
       "      <td>2020-06-25</td>\n",
       "      <td>Everyone</td>\n",
       "      <td>True</td>\n",
       "      <td>False</td>\n",
       "      <td>False</td>\n",
       "    </tr>\n",
       "    <tr>\n",
       "      <th>7</th>\n",
       "      <td>AndroXLS editor for XLS sheets</td>\n",
       "      <td>Productivity</td>\n",
       "      <td>3.0</td>\n",
       "      <td>8831.0</td>\n",
       "      <td>5000000.0</td>\n",
       "      <td>5000000.0</td>\n",
       "      <td>6286237</td>\n",
       "      <td>Free</td>\n",
       "      <td>0.0</td>\n",
       "      <td>USD</td>\n",
       "      <td>8.4M</td>\n",
       "      <td>2016-12-19</td>\n",
       "      <td>2020-10-21</td>\n",
       "      <td>Everyone</td>\n",
       "      <td>True</td>\n",
       "      <td>False</td>\n",
       "      <td>False</td>\n",
       "    </tr>\n",
       "    <tr>\n",
       "      <th>8</th>\n",
       "      <td>Office HD: Presentations BASIC</td>\n",
       "      <td>Business</td>\n",
       "      <td>3.1</td>\n",
       "      <td>768.0</td>\n",
       "      <td>100000.0</td>\n",
       "      <td>100000.0</td>\n",
       "      <td>180332</td>\n",
       "      <td>Free</td>\n",
       "      <td>0.0</td>\n",
       "      <td>USD</td>\n",
       "      <td>21M</td>\n",
       "      <td>2015-10-05</td>\n",
       "      <td>2017-06-27</td>\n",
       "      <td>Everyone</td>\n",
       "      <td>False</td>\n",
       "      <td>True</td>\n",
       "      <td>False</td>\n",
       "    </tr>\n",
       "    <tr>\n",
       "      <th>9</th>\n",
       "      <td>Google Slides</td>\n",
       "      <td>Productivity</td>\n",
       "      <td>4.2</td>\n",
       "      <td>448679.0</td>\n",
       "      <td>500000000.0</td>\n",
       "      <td>500000000.0</td>\n",
       "      <td>800199122</td>\n",
       "      <td>Free</td>\n",
       "      <td>0.0</td>\n",
       "      <td>USD</td>\n",
       "      <td>1</td>\n",
       "      <td>2014-06-25</td>\n",
       "      <td>2020-11-24</td>\n",
       "      <td>Everyone</td>\n",
       "      <td>False</td>\n",
       "      <td>False</td>\n",
       "      <td>False</td>\n",
       "    </tr>\n",
       "    <tr>\n",
       "      <th>10</th>\n",
       "      <td>3D Digital Clock Live Wallpaper-7</td>\n",
       "      <td>Tools</td>\n",
       "      <td>4.3</td>\n",
       "      <td>574.0</td>\n",
       "      <td>100000.0</td>\n",
       "      <td>100000.0</td>\n",
       "      <td>148146</td>\n",
       "      <td>Free</td>\n",
       "      <td>0.0</td>\n",
       "      <td>USD</td>\n",
       "      <td>1.5M</td>\n",
       "      <td>2019-01-16</td>\n",
       "      <td>2020-01-02</td>\n",
       "      <td>Everyone</td>\n",
       "      <td>True</td>\n",
       "      <td>False</td>\n",
       "      <td>False</td>\n",
       "    </tr>\n",
       "  </tbody>\n",
       "</table>\n",
       "</div>"
      ],
      "text/plain": [
       "                                             app_name      category  rating  \\\n",
       "0                                              WPSApp         Tools     4.2   \n",
       "1   OfficeSuite - Office, PDF, Word, Excel, PowerP...      Business     4.2   \n",
       "2                                    Loud Player Free         Music     4.2   \n",
       "3   Jobonji: hire local pros handyman for odd jobs...     Lifestyle     4.4   \n",
       "4                           Little Panda’s Dream Town     Education     4.0   \n",
       "5                             Baby Panda: Dental Care     Education     4.1   \n",
       "6                                        Excel Reader         Tools     3.3   \n",
       "7                      AndroXLS editor for XLS sheets  Productivity     3.0   \n",
       "8                      Office HD: Presentations BASIC      Business     3.1   \n",
       "9                                       Google Slides  Productivity     4.2   \n",
       "10                  3D Digital Clock Live Wallpaper-7         Tools     4.3   \n",
       "\n",
       "    rating_count     installs  minimum_installs  maximum_installs  free  \\\n",
       "0       488639.0   50000000.0        50000000.0          79304739  Free   \n",
       "1      1224420.0  100000000.0       100000000.0         163660067  Free   \n",
       "2          665.0      50000.0           50000.0             73463  Free   \n",
       "3         3346.0     100000.0          100000.0            224897  Free   \n",
       "4        44700.0   10000000.0        10000000.0          29969311  Free   \n",
       "5        10990.0   10000000.0        10000000.0          12520805  Free   \n",
       "6         1141.0     100000.0          100000.0            193274  Free   \n",
       "7         8831.0    5000000.0         5000000.0           6286237  Free   \n",
       "8          768.0     100000.0          100000.0            180332  Free   \n",
       "9       448679.0  500000000.0       500000000.0         800199122  Free   \n",
       "10         574.0     100000.0          100000.0            148146  Free   \n",
       "\n",
       "    price currency  size   released last_updated content_rating  ad_supported  \\\n",
       "0     0.0      USD  5.8M 2016-03-07   2020-10-21       Everyone          True   \n",
       "1     0.0      USD   59M 2011-12-22   2020-11-23       Everyone          True   \n",
       "2     0.0      USD   29M 2016-09-24   2020-11-22       Everyone         False   \n",
       "3     0.0      USD  9.4M 2018-01-10   2019-09-30       Everyone         False   \n",
       "4     0.0      USD   90M 2018-08-16   2020-09-29       Everyone          True   \n",
       "5     0.0      USD   87M 2020-04-27   2020-09-29       Everyone          True   \n",
       "6     0.0      USD  3.3M 2020-01-13   2020-06-25       Everyone          True   \n",
       "7     0.0      USD  8.4M 2016-12-19   2020-10-21       Everyone          True   \n",
       "8     0.0      USD   21M 2015-10-05   2017-06-27       Everyone         False   \n",
       "9     0.0      USD     1 2014-06-25   2020-11-24       Everyone         False   \n",
       "10    0.0      USD  1.5M 2019-01-16   2020-01-02       Everyone          True   \n",
       "\n",
       "    in_app_purchases  editors_choice  \n",
       "0              False           False  \n",
       "1               True           False  \n",
       "2              False           False  \n",
       "3               True           False  \n",
       "4               True           False  \n",
       "5               True           False  \n",
       "6              False           False  \n",
       "7              False           False  \n",
       "8               True           False  \n",
       "9              False           False  \n",
       "10             False           False  "
      ]
     },
     "execution_count": 43,
     "metadata": {},
     "output_type": "execute_result"
    }
   ],
   "source": [
    "top.head(11)"
   ]
  },
  {
   "cell_type": "markdown",
   "metadata": {},
   "source": [
    "<b><font size = 6>Visualization</font></b>"
   ]
  },
  {
   "cell_type": "code",
   "execution_count": 58,
   "metadata": {},
   "outputs": [
    {
     "data": {
      "image/png": "[encoded data removed]",
      "text/plain": [
       "<Figure size 432x288 with 1 Axes>"
      ]
     },
     "metadata": {
      "needs_background": "light"
     },
     "output_type": "display_data"
    }
   ],
   "source": [
    "most_no_of_reviews = top.groupby('category')[['rating']].mean().sort_values('rating', ascending=False).head(10)\n",
    "\n",
    "sns.barplot(most_no_of_reviews.index, most_no_of_reviews.rating)\n",
    "\n",
    "plt.title('Top 10 categories with most number of Ratings')\n",
    "plt.xticks(rotation=75);\n",
    "plt.ylabel('Rating');\n",
    "plt.yticks(np.arange(4), ['0','1','3','5'])\n",
    "plt.xlabel('Category');\n",
    "warnings.filterwarnings('ignore')"
   ]
  },
  {
   "cell_type": "code",
   "execution_count": 44,
   "metadata": {},
   "outputs": [
    {
     "data": {
      "image/png": "[encoded data removed]",
      "text/plain": [
       "<Figure size 432x288 with 1 Axes>"
      ]
     },
     "metadata": {},
     "output_type": "display_data"
    }
   ],
   "source": [
    "type_data = top['free'].value_counts()\n",
    "plt.pie(type_data, labels=type_data.index, autopct='%1.1f%%', startangle=180)\n",
    "plt.title('Applications By Payment Method', fontweight='bold', fontsize=16)\n",
    "plt.legend([ 'Free','Paid'])\n",
    "plt.show()"
   ]
  },
  {
   "cell_type": "code",
   "execution_count": 47,
   "metadata": {
    "scrolled": true
   },
   "outputs": [
    {
     "data": {
      "text/plain": [
       "Text(0.5, 1.0, 'Top 10 categories with most number of installs')"
      ]
     },
     "execution_count": 47,
     "metadata": {},
     "output_type": "execute_result"
    },
    {
     "data": {
      "image/png": "[encoded data removed]",
      "text/plain": [
       "<Figure size 576x576 with 1 Axes>"
      ]
     },
     "metadata": {
      "needs_background": "light"
     },
     "output_type": "display_data"
    }
   ],
   "source": [
    "fig_dims = (8, 8)\n",
    "fig, ax = plt.subplots(figsize=fig_dims)\n",
    "groupby_cats = top.groupby('category').mean().reset_index().sort_values('installs', ascending=False)\n",
    "sns.barplot(data=groupby_cats, x='installs', y='category', orient='h')\n",
    "plt.title('Top 10 categories with most number of installs')"
   ]
  },
  {
   "cell_type": "code",
   "execution_count": 57,
   "metadata": {},
   "outputs": [
    {
     "data": {
      "image/png": "[encoded data removed]",
      "text/plain": [
       "<Figure size 432x288 with 2 Axes>"
      ]
     },
     "metadata": {
      "needs_background": "light"
     },
     "output_type": "display_data"
    }
   ],
   "source": [
    "list1 = [\"rating_count\",\"installs\",\"minimum_installs\",\"maximum_installs\"]\n",
    "sns.heatmap(top[list1].corr(), annot = True , fmt=\".2f\")\n",
    "plt.title('Correlation Between Variables')\n",
    "plt.show()"
   ]
  },
  {
   "cell_type": "code",
   "execution_count": 56,
   "metadata": {},
   "outputs": [
    {
     "data": {
      "image/png": "[encoded data removed]",
      "text/plain": [
       "<Figure size 360x360 with 1 Axes>"
      ]
     },
     "metadata": {
      "needs_background": "light"
     },
     "output_type": "display_data"
    }
   ],
   "source": [
    "sns.factorplot(data = top , x = 'rating' , y = 'category', kind = 'box')\n",
    "plt.title('Categories By Ratings')\n",
    "warnings.filterwarnings('ignore')"
   ]
  },
  {
   "cell_type": "markdown",
   "metadata": {},
   "source": [
    "<b><font size = 5>EXPORT CSV OF CLEAN DATA FOR INTERACTIVE VISUALIZATION</font></b>"
   ]
  },
  {
   "cell_type": "markdown",
   "metadata": {},
   "source": [
    "<b><font size = 3>top.to_csv('project_1.csv') </b> # we've used this command to export the data into csv file  </font>"
   ]
  },
  {
   "cell_type": "markdown",
   "metadata": {},
   "source": [
    "<b><font size = 4>Further Analysis has been done using Microsoft PowerBI.  </font></b>"
   ]
  },
  {
   "cell_type": "code",
   "execution_count": null,
   "metadata": {},
   "outputs": [],
   "source": []
  }
 ],
 "metadata": {
  "kernelspec": {
   "display_name": "Python 3",
   "language": "python",
   "name": "python3"
  },
  "language_info": {
   "codemirror_mode": {
    "name": "ipython",
    "version": 3
   },
   "file_extension": ".py",
   "mimetype": "text/x-python",
   "name": "python",
   "nbconvert_exporter": "python",
   "pygments_lexer": "ipython3",
   "version": "3.8.5"
  }
 },
 "nbformat": 4,
 "nbformat_minor": 4
}
